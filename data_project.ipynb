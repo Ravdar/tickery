{
 "cells": [
  {
   "cell_type": "code",
   "execution_count": 5,
   "metadata": {},
   "outputs": [
    {
     "name": "stdout",
     "output_type": "stream",
     "text": [
      "Dash is running on http://127.0.0.1:8050/\n",
      "\n",
      " * Serving Flask app \"__main__\" (lazy loading)\n",
      " * Environment: production\n",
      "\u001b[31m   WARNING: This is a development server. Do not use it in a production deployment.\u001b[0m\n",
      "\u001b[2m   Use a production WSGI server instead.\u001b[0m\n",
      " * Debug mode: on\n"
     ]
    },
    {
     "ename": "SystemExit",
     "evalue": "1",
     "output_type": "error",
     "traceback": [
      "An exception has occurred, use %tb to see the full traceback.\n",
      "\u001b[1;31mSystemExit\u001b[0m\u001b[1;31m:\u001b[0m 1\n"
     ]
    }
   ],
   "source": [
    "import dash\n",
    "from dash import html\n",
    "from dash import dcc\n",
    "\n",
    "app = dash.Dash()\n",
    "\n",
    "app.layout = html.Div(\n",
    "    children=[\n",
    "        html.H1(\"Hello Dash!\"),\n",
    "        html.P(\"This is a simple Dash application.\"),\n",
    "        dcc.Graph(\n",
    "            id=\"example-graph\",\n",
    "            figure={\n",
    "                \"data\": [\n",
    "                    {\"x\": [1, 2, 3], \"y\": [4, 1, 2], \"type\": \"bar\", \"name\": \"Series 1\"},\n",
    "                    {\"x\": [1, 2, 3], \"y\": [2, 4, 5], \"type\": \"bar\", \"name\": \"Series 2\"},\n",
    "                ],\n",
    "                \"layout\": {\"title\": \"Simple Bar Chart\"},\n",
    "            },\n",
    "        ),\n",
    "    ]\n",
    ")\n",
    "\n",
    "if __name__ == \"__main__\":\n",
    "    app.run_server(debug=True)\n"
   ]
  },
  {
   "cell_type": "code",
   "execution_count": 6,
   "metadata": {},
   "outputs": [
    {
     "ename": "SystemExit",
     "evalue": "1",
     "output_type": "error",
     "traceback": [
      "\u001b[1;31m---------------------------------------------------------------------------\u001b[0m",
      "\u001b[1;31mSystemExit\u001b[0m                                Traceback (most recent call last)",
      "\u001b[1;32m~\\AppData\\Local\\Temp/ipykernel_25652/3767792385.py\u001b[0m in \u001b[0;36m<module>\u001b[1;34m\u001b[0m\n\u001b[0;32m     23\u001b[0m \u001b[1;33m\u001b[0m\u001b[0m\n\u001b[0;32m     24\u001b[0m \u001b[1;32mif\u001b[0m \u001b[0m__name__\u001b[0m \u001b[1;33m==\u001b[0m \u001b[1;34m\"__main__\"\u001b[0m\u001b[1;33m:\u001b[0m\u001b[1;33m\u001b[0m\u001b[1;33m\u001b[0m\u001b[0m\n\u001b[1;32m---> 25\u001b[1;33m     \u001b[0mapp\u001b[0m\u001b[1;33m.\u001b[0m\u001b[0mrun_server\u001b[0m\u001b[1;33m(\u001b[0m\u001b[0mdebug\u001b[0m\u001b[1;33m=\u001b[0m\u001b[1;32mTrue\u001b[0m\u001b[1;33m)\u001b[0m\u001b[1;33m\u001b[0m\u001b[1;33m\u001b[0m\u001b[0m\n\u001b[0m",
      "\u001b[1;32mc:\\Users\\Tomasz\\anaconda3\\lib\\site-packages\\dash\\dash.py\u001b[0m in \u001b[0;36mrun_server\u001b[1;34m(self, *args, **kwargs)\u001b[0m\n\u001b[0;32m   2127\u001b[0m         \u001b[0mSee\u001b[0m\u001b[0;31m \u001b[0m\u001b[0;31m`\u001b[0m\u001b[0mapp\u001b[0m\u001b[1;33m.\u001b[0m\u001b[0mrun\u001b[0m\u001b[0;31m`\u001b[0m \u001b[1;32mfor\u001b[0m \u001b[0musage\u001b[0m \u001b[0minformation\u001b[0m\u001b[1;33m.\u001b[0m\u001b[1;33m\u001b[0m\u001b[1;33m\u001b[0m\u001b[0m\n\u001b[0;32m   2128\u001b[0m         \"\"\"\n\u001b[1;32m-> 2129\u001b[1;33m         \u001b[0mself\u001b[0m\u001b[1;33m.\u001b[0m\u001b[0mrun\u001b[0m\u001b[1;33m(\u001b[0m\u001b[1;33m*\u001b[0m\u001b[0margs\u001b[0m\u001b[1;33m,\u001b[0m \u001b[1;33m**\u001b[0m\u001b[0mkwargs\u001b[0m\u001b[1;33m)\u001b[0m\u001b[1;33m\u001b[0m\u001b[1;33m\u001b[0m\u001b[0m\n\u001b[0m",
      "\u001b[1;32mc:\\Users\\Tomasz\\anaconda3\\lib\\site-packages\\dash\\dash.py\u001b[0m in \u001b[0;36mrun\u001b[1;34m(self, host, port, proxy, debug, dev_tools_ui, dev_tools_props_check, dev_tools_serve_dev_bundles, dev_tools_hot_reload, dev_tools_hot_reload_interval, dev_tools_hot_reload_watch_interval, dev_tools_hot_reload_max_retry, dev_tools_silence_routes_logging, dev_tools_prune_errors, **flask_run_options)\u001b[0m\n\u001b[0;32m   1987\u001b[0m                     \u001b[0mextra_files\u001b[0m\u001b[1;33m.\u001b[0m\u001b[0mappend\u001b[0m\u001b[1;33m(\u001b[0m\u001b[0mpath\u001b[0m\u001b[1;33m)\u001b[0m\u001b[1;33m\u001b[0m\u001b[1;33m\u001b[0m\u001b[0m\n\u001b[0;32m   1988\u001b[0m \u001b[1;33m\u001b[0m\u001b[0m\n\u001b[1;32m-> 1989\u001b[1;33m         \u001b[0mself\u001b[0m\u001b[1;33m.\u001b[0m\u001b[0mserver\u001b[0m\u001b[1;33m.\u001b[0m\u001b[0mrun\u001b[0m\u001b[1;33m(\u001b[0m\u001b[0mhost\u001b[0m\u001b[1;33m=\u001b[0m\u001b[0mhost\u001b[0m\u001b[1;33m,\u001b[0m \u001b[0mport\u001b[0m\u001b[1;33m=\u001b[0m\u001b[0mport\u001b[0m\u001b[1;33m,\u001b[0m \u001b[0mdebug\u001b[0m\u001b[1;33m=\u001b[0m\u001b[0mdebug\u001b[0m\u001b[1;33m,\u001b[0m \u001b[1;33m**\u001b[0m\u001b[0mflask_run_options\u001b[0m\u001b[1;33m)\u001b[0m\u001b[1;33m\u001b[0m\u001b[1;33m\u001b[0m\u001b[0m\n\u001b[0m\u001b[0;32m   1990\u001b[0m \u001b[1;33m\u001b[0m\u001b[0m\n\u001b[0;32m   1991\u001b[0m     \u001b[1;32mdef\u001b[0m \u001b[0m_import_layouts_from_pages\u001b[0m\u001b[1;33m(\u001b[0m\u001b[0mself\u001b[0m\u001b[1;33m)\u001b[0m\u001b[1;33m:\u001b[0m\u001b[1;33m\u001b[0m\u001b[1;33m\u001b[0m\u001b[0m\n",
      "\u001b[1;32mc:\\Users\\Tomasz\\anaconda3\\lib\\site-packages\\flask\\app.py\u001b[0m in \u001b[0;36mrun\u001b[1;34m(self, host, port, debug, load_dotenv, **options)\u001b[0m\n\u001b[0;32m    988\u001b[0m \u001b[1;33m\u001b[0m\u001b[0m\n\u001b[0;32m    989\u001b[0m         \u001b[1;32mtry\u001b[0m\u001b[1;33m:\u001b[0m\u001b[1;33m\u001b[0m\u001b[1;33m\u001b[0m\u001b[0m\n\u001b[1;32m--> 990\u001b[1;33m             \u001b[0mrun_simple\u001b[0m\u001b[1;33m(\u001b[0m\u001b[0mhost\u001b[0m\u001b[1;33m,\u001b[0m \u001b[0mport\u001b[0m\u001b[1;33m,\u001b[0m \u001b[0mself\u001b[0m\u001b[1;33m,\u001b[0m \u001b[1;33m**\u001b[0m\u001b[0moptions\u001b[0m\u001b[1;33m)\u001b[0m\u001b[1;33m\u001b[0m\u001b[1;33m\u001b[0m\u001b[0m\n\u001b[0m\u001b[0;32m    991\u001b[0m         \u001b[1;32mfinally\u001b[0m\u001b[1;33m:\u001b[0m\u001b[1;33m\u001b[0m\u001b[1;33m\u001b[0m\u001b[0m\n\u001b[0;32m    992\u001b[0m             \u001b[1;31m# reset the first request information if the development server\u001b[0m\u001b[1;33m\u001b[0m\u001b[1;33m\u001b[0m\u001b[0m\n",
      "\u001b[1;32mc:\\Users\\Tomasz\\anaconda3\\lib\\site-packages\\werkzeug\\serving.py\u001b[0m in \u001b[0;36mrun_simple\u001b[1;34m(hostname, port, application, use_reloader, use_debugger, use_evalex, extra_files, exclude_patterns, reloader_interval, reloader_type, threaded, processes, request_handler, static_files, passthrough_errors, ssl_context)\u001b[0m\n\u001b[0;32m   1000\u001b[0m         \u001b[1;32mfrom\u001b[0m \u001b[1;33m.\u001b[0m\u001b[0m_reloader\u001b[0m \u001b[1;32mimport\u001b[0m \u001b[0mrun_with_reloader\u001b[0m \u001b[1;32mas\u001b[0m \u001b[0m_rwr\u001b[0m\u001b[1;33m\u001b[0m\u001b[1;33m\u001b[0m\u001b[0m\n\u001b[0;32m   1001\u001b[0m \u001b[1;33m\u001b[0m\u001b[0m\n\u001b[1;32m-> 1002\u001b[1;33m         _rwr(\n\u001b[0m\u001b[0;32m   1003\u001b[0m             \u001b[0minner\u001b[0m\u001b[1;33m,\u001b[0m\u001b[1;33m\u001b[0m\u001b[1;33m\u001b[0m\u001b[0m\n\u001b[0;32m   1004\u001b[0m             \u001b[0mextra_files\u001b[0m\u001b[1;33m=\u001b[0m\u001b[0mextra_files\u001b[0m\u001b[1;33m,\u001b[0m\u001b[1;33m\u001b[0m\u001b[1;33m\u001b[0m\u001b[0m\n",
      "\u001b[1;32mc:\\Users\\Tomasz\\anaconda3\\lib\\site-packages\\werkzeug\\_reloader.py\u001b[0m in \u001b[0;36mrun_with_reloader\u001b[1;34m(main_func, extra_files, exclude_patterns, interval, reloader_type)\u001b[0m\n\u001b[0;32m    426\u001b[0m                 \u001b[0mreloader\u001b[0m\u001b[1;33m.\u001b[0m\u001b[0mrun\u001b[0m\u001b[1;33m(\u001b[0m\u001b[1;33m)\u001b[0m\u001b[1;33m\u001b[0m\u001b[1;33m\u001b[0m\u001b[0m\n\u001b[0;32m    427\u001b[0m         \u001b[1;32melse\u001b[0m\u001b[1;33m:\u001b[0m\u001b[1;33m\u001b[0m\u001b[1;33m\u001b[0m\u001b[0m\n\u001b[1;32m--> 428\u001b[1;33m             \u001b[0msys\u001b[0m\u001b[1;33m.\u001b[0m\u001b[0mexit\u001b[0m\u001b[1;33m(\u001b[0m\u001b[0mreloader\u001b[0m\u001b[1;33m.\u001b[0m\u001b[0mrestart_with_reloader\u001b[0m\u001b[1;33m(\u001b[0m\u001b[1;33m)\u001b[0m\u001b[1;33m)\u001b[0m\u001b[1;33m\u001b[0m\u001b[1;33m\u001b[0m\u001b[0m\n\u001b[0m\u001b[0;32m    429\u001b[0m     \u001b[1;32mexcept\u001b[0m \u001b[0mKeyboardInterrupt\u001b[0m\u001b[1;33m:\u001b[0m\u001b[1;33m\u001b[0m\u001b[1;33m\u001b[0m\u001b[0m\n\u001b[0;32m    430\u001b[0m         \u001b[1;32mpass\u001b[0m\u001b[1;33m\u001b[0m\u001b[1;33m\u001b[0m\u001b[0m\n",
      "\u001b[1;31mSystemExit\u001b[0m: 1"
     ]
    }
   ],
   "source": [
    "%tb"
   ]
  },
  {
   "cell_type": "code",
   "execution_count": 10,
   "metadata": {},
   "outputs": [],
   "source": [
    "import os\n",
    "import pandas as pd\n",
    "\n",
    "data = pd.read_csv(\"C:\\\\Users\\\\Tomasz\\\\data_project\\\\BTC-USD\")\n",
    "r = 0\n",
    "if \"Datetime\" in data.columns:\n",
    "    for v in data[\"Datetime\"]:\n",
    "        data.loc[r,\"Datetime\"] = v[:19]\n",
    "        r+=1\n",
    "\n",
    "data.to_csv(\"C:\\\\Users\\\\Tomasz\\\\data_project\\\\BTC\", index = False)\n",
    "\n"
   ]
  },
  {
   "cell_type": "code",
   "execution_count": 12,
   "metadata": {},
   "outputs": [
    {
     "name": "stdout",
     "output_type": "stream",
     "text": [
      "Dash is running on http://127.0.0.1:8050/\n",
      "\n",
      " * Serving Flask app \"__main__\" (lazy loading)\n",
      " * Environment: production\n",
      "\u001b[31m   WARNING: This is a development server. Do not use it in a production deployment.\u001b[0m\n",
      "\u001b[2m   Use a production WSGI server instead.\u001b[0m\n",
      " * Debug mode: on\n"
     ]
    },
    {
     "ename": "SystemExit",
     "evalue": "1",
     "output_type": "error",
     "traceback": [
      "An exception has occurred, use %tb to see the full traceback.\n",
      "\u001b[1;31mSystemExit\u001b[0m\u001b[1;31m:\u001b[0m 1\n"
     ]
    },
    {
     "name": "stderr",
     "output_type": "stream",
     "text": [
      "c:\\Users\\Tomasz\\anaconda3\\lib\\site-packages\\IPython\\core\\interactiveshell.py:3452: UserWarning:\n",
      "\n",
      "To exit: use 'exit', 'quit', or Ctrl-D.\n",
      "\n"
     ]
    }
   ],
   "source": [
    "import dash\n",
    "from dash import dcc\n",
    "from dash import html\n",
    "import pandas as pd\n",
    "import plotly.graph_objects as go\n",
    "\n",
    "ticker = pd.read_csv(\"C:\\\\Users\\\\Tomasz\\\\data_project\\\\BTC\")\n",
    "\n",
    "app = dash.Dash()\n",
    "\n",
    "app.layout = html.Div(\n",
    "    children=[\n",
    "        html.H1(\"OHLC Analiser Tool\"),\n",
    "        html.P(\"This is tool which helps to analise OHLC data.\"),\n",
    "        dcc.Graph(\n",
    "            id=\"candlestick-chart\",\n",
    "            figure=go.Figure(\n",
    "                data=[\n",
    "                    go.Candlestick(\n",
    "                        x=ticker[\"Datetime\"],\n",
    "                        open=ticker[\"Open\"],\n",
    "                        high=ticker[\"High\"],\n",
    "                        low=ticker[\"Low\"],\n",
    "                        close=ticker[\"Close\"],\n",
    "                    )\n",
    "                ],\n",
    "                layout=go.Layout(title=\"Candlestick Chart\"),\n",
    "            ),\n",
    "        ),\n",
    "    ]\n",
    ")\n",
    "\n",
    "if __name__ == \"__main__\":\n",
    "    app.run_server(debug=True)\n"
   ]
  },
  {
   "cell_type": "code",
   "execution_count": 13,
   "metadata": {},
   "outputs": [
    {
     "ename": "SystemExit",
     "evalue": "1",
     "output_type": "error",
     "traceback": [
      "\u001b[1;31m---------------------------------------------------------------------------\u001b[0m",
      "\u001b[1;31mSystemExit\u001b[0m                                Traceback (most recent call last)",
      "\u001b[1;32m~\\AppData\\Local\\Temp/ipykernel_25652/3334003032.py\u001b[0m in \u001b[0;36m<module>\u001b[1;34m\u001b[0m\n\u001b[0;32m     32\u001b[0m \u001b[1;33m\u001b[0m\u001b[0m\n\u001b[0;32m     33\u001b[0m \u001b[1;32mif\u001b[0m \u001b[0m__name__\u001b[0m \u001b[1;33m==\u001b[0m \u001b[1;34m\"__main__\"\u001b[0m\u001b[1;33m:\u001b[0m\u001b[1;33m\u001b[0m\u001b[1;33m\u001b[0m\u001b[0m\n\u001b[1;32m---> 34\u001b[1;33m     \u001b[0mapp\u001b[0m\u001b[1;33m.\u001b[0m\u001b[0mrun_server\u001b[0m\u001b[1;33m(\u001b[0m\u001b[0mdebug\u001b[0m\u001b[1;33m=\u001b[0m\u001b[1;32mTrue\u001b[0m\u001b[1;33m)\u001b[0m\u001b[1;33m\u001b[0m\u001b[1;33m\u001b[0m\u001b[0m\n\u001b[0m",
      "\u001b[1;32mc:\\Users\\Tomasz\\anaconda3\\lib\\site-packages\\dash\\dash.py\u001b[0m in \u001b[0;36mrun_server\u001b[1;34m(self, *args, **kwargs)\u001b[0m\n\u001b[0;32m   2127\u001b[0m         \u001b[0mSee\u001b[0m\u001b[0;31m \u001b[0m\u001b[0;31m`\u001b[0m\u001b[0mapp\u001b[0m\u001b[1;33m.\u001b[0m\u001b[0mrun\u001b[0m\u001b[0;31m`\u001b[0m \u001b[1;32mfor\u001b[0m \u001b[0musage\u001b[0m \u001b[0minformation\u001b[0m\u001b[1;33m.\u001b[0m\u001b[1;33m\u001b[0m\u001b[1;33m\u001b[0m\u001b[0m\n\u001b[0;32m   2128\u001b[0m         \"\"\"\n\u001b[1;32m-> 2129\u001b[1;33m         \u001b[0mself\u001b[0m\u001b[1;33m.\u001b[0m\u001b[0mrun\u001b[0m\u001b[1;33m(\u001b[0m\u001b[1;33m*\u001b[0m\u001b[0margs\u001b[0m\u001b[1;33m,\u001b[0m \u001b[1;33m**\u001b[0m\u001b[0mkwargs\u001b[0m\u001b[1;33m)\u001b[0m\u001b[1;33m\u001b[0m\u001b[1;33m\u001b[0m\u001b[0m\n\u001b[0m",
      "\u001b[1;32mc:\\Users\\Tomasz\\anaconda3\\lib\\site-packages\\dash\\dash.py\u001b[0m in \u001b[0;36mrun\u001b[1;34m(self, host, port, proxy, debug, dev_tools_ui, dev_tools_props_check, dev_tools_serve_dev_bundles, dev_tools_hot_reload, dev_tools_hot_reload_interval, dev_tools_hot_reload_watch_interval, dev_tools_hot_reload_max_retry, dev_tools_silence_routes_logging, dev_tools_prune_errors, **flask_run_options)\u001b[0m\n\u001b[0;32m   1987\u001b[0m                     \u001b[0mextra_files\u001b[0m\u001b[1;33m.\u001b[0m\u001b[0mappend\u001b[0m\u001b[1;33m(\u001b[0m\u001b[0mpath\u001b[0m\u001b[1;33m)\u001b[0m\u001b[1;33m\u001b[0m\u001b[1;33m\u001b[0m\u001b[0m\n\u001b[0;32m   1988\u001b[0m \u001b[1;33m\u001b[0m\u001b[0m\n\u001b[1;32m-> 1989\u001b[1;33m         \u001b[0mself\u001b[0m\u001b[1;33m.\u001b[0m\u001b[0mserver\u001b[0m\u001b[1;33m.\u001b[0m\u001b[0mrun\u001b[0m\u001b[1;33m(\u001b[0m\u001b[0mhost\u001b[0m\u001b[1;33m=\u001b[0m\u001b[0mhost\u001b[0m\u001b[1;33m,\u001b[0m \u001b[0mport\u001b[0m\u001b[1;33m=\u001b[0m\u001b[0mport\u001b[0m\u001b[1;33m,\u001b[0m \u001b[0mdebug\u001b[0m\u001b[1;33m=\u001b[0m\u001b[0mdebug\u001b[0m\u001b[1;33m,\u001b[0m \u001b[1;33m**\u001b[0m\u001b[0mflask_run_options\u001b[0m\u001b[1;33m)\u001b[0m\u001b[1;33m\u001b[0m\u001b[1;33m\u001b[0m\u001b[0m\n\u001b[0m\u001b[0;32m   1990\u001b[0m \u001b[1;33m\u001b[0m\u001b[0m\n\u001b[0;32m   1991\u001b[0m     \u001b[1;32mdef\u001b[0m \u001b[0m_import_layouts_from_pages\u001b[0m\u001b[1;33m(\u001b[0m\u001b[0mself\u001b[0m\u001b[1;33m)\u001b[0m\u001b[1;33m:\u001b[0m\u001b[1;33m\u001b[0m\u001b[1;33m\u001b[0m\u001b[0m\n",
      "\u001b[1;32mc:\\Users\\Tomasz\\anaconda3\\lib\\site-packages\\flask\\app.py\u001b[0m in \u001b[0;36mrun\u001b[1;34m(self, host, port, debug, load_dotenv, **options)\u001b[0m\n\u001b[0;32m    988\u001b[0m \u001b[1;33m\u001b[0m\u001b[0m\n\u001b[0;32m    989\u001b[0m         \u001b[1;32mtry\u001b[0m\u001b[1;33m:\u001b[0m\u001b[1;33m\u001b[0m\u001b[1;33m\u001b[0m\u001b[0m\n\u001b[1;32m--> 990\u001b[1;33m             \u001b[0mrun_simple\u001b[0m\u001b[1;33m(\u001b[0m\u001b[0mhost\u001b[0m\u001b[1;33m,\u001b[0m \u001b[0mport\u001b[0m\u001b[1;33m,\u001b[0m \u001b[0mself\u001b[0m\u001b[1;33m,\u001b[0m \u001b[1;33m**\u001b[0m\u001b[0moptions\u001b[0m\u001b[1;33m)\u001b[0m\u001b[1;33m\u001b[0m\u001b[1;33m\u001b[0m\u001b[0m\n\u001b[0m\u001b[0;32m    991\u001b[0m         \u001b[1;32mfinally\u001b[0m\u001b[1;33m:\u001b[0m\u001b[1;33m\u001b[0m\u001b[1;33m\u001b[0m\u001b[0m\n\u001b[0;32m    992\u001b[0m             \u001b[1;31m# reset the first request information if the development server\u001b[0m\u001b[1;33m\u001b[0m\u001b[1;33m\u001b[0m\u001b[0m\n",
      "\u001b[1;32mc:\\Users\\Tomasz\\anaconda3\\lib\\site-packages\\werkzeug\\serving.py\u001b[0m in \u001b[0;36mrun_simple\u001b[1;34m(hostname, port, application, use_reloader, use_debugger, use_evalex, extra_files, exclude_patterns, reloader_interval, reloader_type, threaded, processes, request_handler, static_files, passthrough_errors, ssl_context)\u001b[0m\n\u001b[0;32m   1000\u001b[0m         \u001b[1;32mfrom\u001b[0m \u001b[1;33m.\u001b[0m\u001b[0m_reloader\u001b[0m \u001b[1;32mimport\u001b[0m \u001b[0mrun_with_reloader\u001b[0m \u001b[1;32mas\u001b[0m \u001b[0m_rwr\u001b[0m\u001b[1;33m\u001b[0m\u001b[1;33m\u001b[0m\u001b[0m\n\u001b[0;32m   1001\u001b[0m \u001b[1;33m\u001b[0m\u001b[0m\n\u001b[1;32m-> 1002\u001b[1;33m         _rwr(\n\u001b[0m\u001b[0;32m   1003\u001b[0m             \u001b[0minner\u001b[0m\u001b[1;33m,\u001b[0m\u001b[1;33m\u001b[0m\u001b[1;33m\u001b[0m\u001b[0m\n\u001b[0;32m   1004\u001b[0m             \u001b[0mextra_files\u001b[0m\u001b[1;33m=\u001b[0m\u001b[0mextra_files\u001b[0m\u001b[1;33m,\u001b[0m\u001b[1;33m\u001b[0m\u001b[1;33m\u001b[0m\u001b[0m\n",
      "\u001b[1;32mc:\\Users\\Tomasz\\anaconda3\\lib\\site-packages\\werkzeug\\_reloader.py\u001b[0m in \u001b[0;36mrun_with_reloader\u001b[1;34m(main_func, extra_files, exclude_patterns, interval, reloader_type)\u001b[0m\n\u001b[0;32m    426\u001b[0m                 \u001b[0mreloader\u001b[0m\u001b[1;33m.\u001b[0m\u001b[0mrun\u001b[0m\u001b[1;33m(\u001b[0m\u001b[1;33m)\u001b[0m\u001b[1;33m\u001b[0m\u001b[1;33m\u001b[0m\u001b[0m\n\u001b[0;32m    427\u001b[0m         \u001b[1;32melse\u001b[0m\u001b[1;33m:\u001b[0m\u001b[1;33m\u001b[0m\u001b[1;33m\u001b[0m\u001b[0m\n\u001b[1;32m--> 428\u001b[1;33m             \u001b[0msys\u001b[0m\u001b[1;33m.\u001b[0m\u001b[0mexit\u001b[0m\u001b[1;33m(\u001b[0m\u001b[0mreloader\u001b[0m\u001b[1;33m.\u001b[0m\u001b[0mrestart_with_reloader\u001b[0m\u001b[1;33m(\u001b[0m\u001b[1;33m)\u001b[0m\u001b[1;33m)\u001b[0m\u001b[1;33m\u001b[0m\u001b[1;33m\u001b[0m\u001b[0m\n\u001b[0m\u001b[0;32m    429\u001b[0m     \u001b[1;32mexcept\u001b[0m \u001b[0mKeyboardInterrupt\u001b[0m\u001b[1;33m:\u001b[0m\u001b[1;33m\u001b[0m\u001b[1;33m\u001b[0m\u001b[0m\n\u001b[0;32m    430\u001b[0m         \u001b[1;32mpass\u001b[0m\u001b[1;33m\u001b[0m\u001b[1;33m\u001b[0m\u001b[0m\n",
      "\u001b[1;31mSystemExit\u001b[0m: 1"
     ]
    }
   ],
   "source": [
    "%tb"
   ]
  },
  {
   "cell_type": "code",
   "execution_count": 14,
   "metadata": {},
   "outputs": [
    {
     "name": "stdout",
     "output_type": "stream",
     "text": [
      "Dash is running on http://127.0.0.1:8050/\n",
      "\n",
      " * Serving Flask app \"__main__\" (lazy loading)\n",
      " * Environment: production\n",
      "\u001b[31m   WARNING: This is a development server. Do not use it in a production deployment.\u001b[0m\n",
      "\u001b[2m   Use a production WSGI server instead.\u001b[0m\n",
      " * Debug mode: on\n"
     ]
    },
    {
     "ename": "SystemExit",
     "evalue": "1",
     "output_type": "error",
     "traceback": [
      "An exception has occurred, use %tb to see the full traceback.\n",
      "\u001b[1;31mSystemExit\u001b[0m\u001b[1;31m:\u001b[0m 1\n"
     ]
    },
    {
     "name": "stderr",
     "output_type": "stream",
     "text": [
      "c:\\Users\\Tomasz\\anaconda3\\lib\\site-packages\\IPython\\core\\interactiveshell.py:3452: UserWarning:\n",
      "\n",
      "To exit: use 'exit', 'quit', or Ctrl-D.\n",
      "\n"
     ]
    }
   ],
   "source": [
    "import dash\n",
    "from dash import dcc\n",
    "from dash import html\n",
    "import pandas as pd\n",
    "import plotly.graph_objects as go\n",
    "\n",
    "ticker = pd.read_csv(\"C:\\\\Users\\\\Tomasz\\\\data_project\\\\BTC\")\n",
    "\n",
    "app = dash.Dash()\n",
    "\n",
    "app.layout = html.Div(\n",
    "    children=[\n",
    "        html.H1(\"OHLC Analiser Tool\"),\n",
    "        html.P(\"This is tool which helps to analise OHLC data.\"),\n",
    "        dcc.Graph(\n",
    "            id=\"candlestick-chart\",\n",
    "            figure=go.Figure(\n",
    "                data=[\n",
    "                    go.Candlestick(\n",
    "                        x=ticker[\"Datetime\"],\n",
    "                        open=ticker[\"Open\"],\n",
    "                        high=ticker[\"High\"],\n",
    "                        low=ticker[\"Low\"],\n",
    "                        close=ticker[\"Close\"],\n",
    "                    )\n",
    "                ],\n",
    "                layout=go.Layout(title=\"Candlestick Chart\", yaxis={\"autorange\": True},),\n",
    "            ),\n",
    "        ),\n",
    "    ]\n",
    ")\n",
    "\n",
    "if __name__ == \"__main__\":\n",
    "    app.run_server(debug=True)\n"
   ]
  },
  {
   "cell_type": "code",
   "execution_count": 15,
   "metadata": {},
   "outputs": [
    {
     "ename": "SystemExit",
     "evalue": "1",
     "output_type": "error",
     "traceback": [
      "\u001b[1;31m---------------------------------------------------------------------------\u001b[0m",
      "\u001b[1;31mSystemExit\u001b[0m                                Traceback (most recent call last)",
      "\u001b[1;32m~\\AppData\\Local\\Temp/ipykernel_25652/99361004.py\u001b[0m in \u001b[0;36m<module>\u001b[1;34m\u001b[0m\n\u001b[0;32m     32\u001b[0m \u001b[1;33m\u001b[0m\u001b[0m\n\u001b[0;32m     33\u001b[0m \u001b[1;32mif\u001b[0m \u001b[0m__name__\u001b[0m \u001b[1;33m==\u001b[0m \u001b[1;34m\"__main__\"\u001b[0m\u001b[1;33m:\u001b[0m\u001b[1;33m\u001b[0m\u001b[1;33m\u001b[0m\u001b[0m\n\u001b[1;32m---> 34\u001b[1;33m     \u001b[0mapp\u001b[0m\u001b[1;33m.\u001b[0m\u001b[0mrun_server\u001b[0m\u001b[1;33m(\u001b[0m\u001b[0mdebug\u001b[0m\u001b[1;33m=\u001b[0m\u001b[1;32mTrue\u001b[0m\u001b[1;33m)\u001b[0m\u001b[1;33m\u001b[0m\u001b[1;33m\u001b[0m\u001b[0m\n\u001b[0m",
      "\u001b[1;32mc:\\Users\\Tomasz\\anaconda3\\lib\\site-packages\\dash\\dash.py\u001b[0m in \u001b[0;36mrun_server\u001b[1;34m(self, *args, **kwargs)\u001b[0m\n\u001b[0;32m   2127\u001b[0m         \u001b[0mSee\u001b[0m\u001b[0;31m \u001b[0m\u001b[0;31m`\u001b[0m\u001b[0mapp\u001b[0m\u001b[1;33m.\u001b[0m\u001b[0mrun\u001b[0m\u001b[0;31m`\u001b[0m \u001b[1;32mfor\u001b[0m \u001b[0musage\u001b[0m \u001b[0minformation\u001b[0m\u001b[1;33m.\u001b[0m\u001b[1;33m\u001b[0m\u001b[1;33m\u001b[0m\u001b[0m\n\u001b[0;32m   2128\u001b[0m         \"\"\"\n\u001b[1;32m-> 2129\u001b[1;33m         \u001b[0mself\u001b[0m\u001b[1;33m.\u001b[0m\u001b[0mrun\u001b[0m\u001b[1;33m(\u001b[0m\u001b[1;33m*\u001b[0m\u001b[0margs\u001b[0m\u001b[1;33m,\u001b[0m \u001b[1;33m**\u001b[0m\u001b[0mkwargs\u001b[0m\u001b[1;33m)\u001b[0m\u001b[1;33m\u001b[0m\u001b[1;33m\u001b[0m\u001b[0m\n\u001b[0m",
      "\u001b[1;32mc:\\Users\\Tomasz\\anaconda3\\lib\\site-packages\\dash\\dash.py\u001b[0m in \u001b[0;36mrun\u001b[1;34m(self, host, port, proxy, debug, dev_tools_ui, dev_tools_props_check, dev_tools_serve_dev_bundles, dev_tools_hot_reload, dev_tools_hot_reload_interval, dev_tools_hot_reload_watch_interval, dev_tools_hot_reload_max_retry, dev_tools_silence_routes_logging, dev_tools_prune_errors, **flask_run_options)\u001b[0m\n\u001b[0;32m   1987\u001b[0m                     \u001b[0mextra_files\u001b[0m\u001b[1;33m.\u001b[0m\u001b[0mappend\u001b[0m\u001b[1;33m(\u001b[0m\u001b[0mpath\u001b[0m\u001b[1;33m)\u001b[0m\u001b[1;33m\u001b[0m\u001b[1;33m\u001b[0m\u001b[0m\n\u001b[0;32m   1988\u001b[0m \u001b[1;33m\u001b[0m\u001b[0m\n\u001b[1;32m-> 1989\u001b[1;33m         \u001b[0mself\u001b[0m\u001b[1;33m.\u001b[0m\u001b[0mserver\u001b[0m\u001b[1;33m.\u001b[0m\u001b[0mrun\u001b[0m\u001b[1;33m(\u001b[0m\u001b[0mhost\u001b[0m\u001b[1;33m=\u001b[0m\u001b[0mhost\u001b[0m\u001b[1;33m,\u001b[0m \u001b[0mport\u001b[0m\u001b[1;33m=\u001b[0m\u001b[0mport\u001b[0m\u001b[1;33m,\u001b[0m \u001b[0mdebug\u001b[0m\u001b[1;33m=\u001b[0m\u001b[0mdebug\u001b[0m\u001b[1;33m,\u001b[0m \u001b[1;33m**\u001b[0m\u001b[0mflask_run_options\u001b[0m\u001b[1;33m)\u001b[0m\u001b[1;33m\u001b[0m\u001b[1;33m\u001b[0m\u001b[0m\n\u001b[0m\u001b[0;32m   1990\u001b[0m \u001b[1;33m\u001b[0m\u001b[0m\n\u001b[0;32m   1991\u001b[0m     \u001b[1;32mdef\u001b[0m \u001b[0m_import_layouts_from_pages\u001b[0m\u001b[1;33m(\u001b[0m\u001b[0mself\u001b[0m\u001b[1;33m)\u001b[0m\u001b[1;33m:\u001b[0m\u001b[1;33m\u001b[0m\u001b[1;33m\u001b[0m\u001b[0m\n",
      "\u001b[1;32mc:\\Users\\Tomasz\\anaconda3\\lib\\site-packages\\flask\\app.py\u001b[0m in \u001b[0;36mrun\u001b[1;34m(self, host, port, debug, load_dotenv, **options)\u001b[0m\n\u001b[0;32m    988\u001b[0m \u001b[1;33m\u001b[0m\u001b[0m\n\u001b[0;32m    989\u001b[0m         \u001b[1;32mtry\u001b[0m\u001b[1;33m:\u001b[0m\u001b[1;33m\u001b[0m\u001b[1;33m\u001b[0m\u001b[0m\n\u001b[1;32m--> 990\u001b[1;33m             \u001b[0mrun_simple\u001b[0m\u001b[1;33m(\u001b[0m\u001b[0mhost\u001b[0m\u001b[1;33m,\u001b[0m \u001b[0mport\u001b[0m\u001b[1;33m,\u001b[0m \u001b[0mself\u001b[0m\u001b[1;33m,\u001b[0m \u001b[1;33m**\u001b[0m\u001b[0moptions\u001b[0m\u001b[1;33m)\u001b[0m\u001b[1;33m\u001b[0m\u001b[1;33m\u001b[0m\u001b[0m\n\u001b[0m\u001b[0;32m    991\u001b[0m         \u001b[1;32mfinally\u001b[0m\u001b[1;33m:\u001b[0m\u001b[1;33m\u001b[0m\u001b[1;33m\u001b[0m\u001b[0m\n\u001b[0;32m    992\u001b[0m             \u001b[1;31m# reset the first request information if the development server\u001b[0m\u001b[1;33m\u001b[0m\u001b[1;33m\u001b[0m\u001b[0m\n",
      "\u001b[1;32mc:\\Users\\Tomasz\\anaconda3\\lib\\site-packages\\werkzeug\\serving.py\u001b[0m in \u001b[0;36mrun_simple\u001b[1;34m(hostname, port, application, use_reloader, use_debugger, use_evalex, extra_files, exclude_patterns, reloader_interval, reloader_type, threaded, processes, request_handler, static_files, passthrough_errors, ssl_context)\u001b[0m\n\u001b[0;32m   1000\u001b[0m         \u001b[1;32mfrom\u001b[0m \u001b[1;33m.\u001b[0m\u001b[0m_reloader\u001b[0m \u001b[1;32mimport\u001b[0m \u001b[0mrun_with_reloader\u001b[0m \u001b[1;32mas\u001b[0m \u001b[0m_rwr\u001b[0m\u001b[1;33m\u001b[0m\u001b[1;33m\u001b[0m\u001b[0m\n\u001b[0;32m   1001\u001b[0m \u001b[1;33m\u001b[0m\u001b[0m\n\u001b[1;32m-> 1002\u001b[1;33m         _rwr(\n\u001b[0m\u001b[0;32m   1003\u001b[0m             \u001b[0minner\u001b[0m\u001b[1;33m,\u001b[0m\u001b[1;33m\u001b[0m\u001b[1;33m\u001b[0m\u001b[0m\n\u001b[0;32m   1004\u001b[0m             \u001b[0mextra_files\u001b[0m\u001b[1;33m=\u001b[0m\u001b[0mextra_files\u001b[0m\u001b[1;33m,\u001b[0m\u001b[1;33m\u001b[0m\u001b[1;33m\u001b[0m\u001b[0m\n",
      "\u001b[1;32mc:\\Users\\Tomasz\\anaconda3\\lib\\site-packages\\werkzeug\\_reloader.py\u001b[0m in \u001b[0;36mrun_with_reloader\u001b[1;34m(main_func, extra_files, exclude_patterns, interval, reloader_type)\u001b[0m\n\u001b[0;32m    426\u001b[0m                 \u001b[0mreloader\u001b[0m\u001b[1;33m.\u001b[0m\u001b[0mrun\u001b[0m\u001b[1;33m(\u001b[0m\u001b[1;33m)\u001b[0m\u001b[1;33m\u001b[0m\u001b[1;33m\u001b[0m\u001b[0m\n\u001b[0;32m    427\u001b[0m         \u001b[1;32melse\u001b[0m\u001b[1;33m:\u001b[0m\u001b[1;33m\u001b[0m\u001b[1;33m\u001b[0m\u001b[0m\n\u001b[1;32m--> 428\u001b[1;33m             \u001b[0msys\u001b[0m\u001b[1;33m.\u001b[0m\u001b[0mexit\u001b[0m\u001b[1;33m(\u001b[0m\u001b[0mreloader\u001b[0m\u001b[1;33m.\u001b[0m\u001b[0mrestart_with_reloader\u001b[0m\u001b[1;33m(\u001b[0m\u001b[1;33m)\u001b[0m\u001b[1;33m)\u001b[0m\u001b[1;33m\u001b[0m\u001b[1;33m\u001b[0m\u001b[0m\n\u001b[0m\u001b[0;32m    429\u001b[0m     \u001b[1;32mexcept\u001b[0m \u001b[0mKeyboardInterrupt\u001b[0m\u001b[1;33m:\u001b[0m\u001b[1;33m\u001b[0m\u001b[1;33m\u001b[0m\u001b[0m\n\u001b[0;32m    430\u001b[0m         \u001b[1;32mpass\u001b[0m\u001b[1;33m\u001b[0m\u001b[1;33m\u001b[0m\u001b[0m\n",
      "\u001b[1;31mSystemExit\u001b[0m: 1"
     ]
    }
   ],
   "source": [
    "%tb"
   ]
  },
  {
   "cell_type": "code",
   "execution_count": 23,
   "metadata": {},
   "outputs": [],
   "source": [
    "import pandas as pd\n",
    "\n",
    "column_names = [\n",
    "    \"Timestamp\", \"Open\", \"High\", \"Low\", \"Close\", \"Volume\", \"Close_time\", \"Quote_asset_volume\",\n",
    "    \"Number_of_trades\", \"Taker_buy_base_asset_volume\", \"Taker_buy_quote_asset_volume\", \"Ignore\"\n",
    "]\n",
    "\n",
    "# Add skiprows=1 to skip the first row containing the column names\n",
    "ticker = pd.read_csv(\"C:\\\\Users\\\\Tomasz\\\\data_project\\\\BTC.csv\", names=column_names, skiprows=1)\n",
    "\n",
    "# Convert the entire \"Timestamp\" column to datetime format in one line\n",
    "ticker[\"Timestamp\"] = pd.to_datetime(ticker[\"Timestamp\"], unit=\"ms\")\n",
    "\n",
    "# Save the updated DataFrame to a CSV file\n",
    "ticker.to_csv(\"C:\\\\Users\\\\Tomasz\\\\data_project\\\\BTC.csv\", index=False)"
   ]
  },
  {
   "cell_type": "code",
   "execution_count": 34,
   "metadata": {},
   "outputs": [
    {
     "name": "stdout",
     "output_type": "stream",
     "text": [
      "              Datetime        Open        High         Low       Close  \\\n",
      "0  2022-06-21 09:30:00  133.750000  133.789993  133.589996  133.604996   \n",
      "1  2022-06-21 09:31:00  133.690002  133.919998  133.449997  133.740005   \n",
      "2  2022-06-21 09:32:00  133.755005  134.139008  133.710403  134.050003   \n",
      "3  2022-06-21 09:33:00  134.059998  134.699997  134.059998  134.588806   \n",
      "4  2022-06-21 09:34:00  134.580002  135.139893  134.580002  135.054993   \n",
      "\n",
      "    Adj Close   Volume  Date  \n",
      "0  133.604996  4575306   NaN  \n",
      "1  133.740005   573932   NaN  \n",
      "2  134.050003   600562   NaN  \n",
      "3  134.588806   820451   NaN  \n",
      "4  135.054993   812349   NaN  \n",
      "                  Datetime        Open        High         Low       Close  \\\n",
      "68005  2023-04-28 15:56:00  169.589996  169.690002  169.570007  169.593399   \n",
      "68006  2023-04-28 15:57:00  169.590103  169.664993  169.570297  169.585007   \n",
      "68007  2023-04-28 15:58:00  169.585007  169.649994  169.539993  169.639999   \n",
      "68008  2023-04-28 15:59:00  169.639999  169.710007  169.589996  169.690002   \n",
      "68009  2023-04-28 16:00:00  169.679993  169.679993  169.679993  169.679993   \n",
      "\n",
      "        Adj Close   Volume  Date  \n",
      "68005  169.593399   416250   NaN  \n",
      "68006  169.585007   368799   NaN  \n",
      "68007  169.639999   451681   NaN  \n",
      "68008  169.690002  1188314   NaN  \n",
      "68009  169.679993        0   NaN  \n",
      "2022-06-21 09:30:00\n"
     ]
    }
   ],
   "source": [
    "import pandas as pd\n",
    "\n",
    "file_path = f\"C:\\\\Users\\Tomasz\\\\Desktop\\\\Test_folder\\\\AAPL\\\\1m\\\\CSV RAW\\\\AAPL\"\n",
    "\n",
    "ticker = pd.read_csv(file_path)\n",
    "cs= ticker.iloc[0,0]\n",
    "\n",
    "\n",
    "\n",
    "start_date = \"2022-05-01\"\n",
    "end_date = \"2023-09-01\"\n",
    "\n",
    "#ticker = ticker[(ticker.iloc[:,0] >= start_date) & (ticker.iloc[:,0] <= end_date)]\n",
    "print(ticker.head())\n",
    "print(ticker.tail())\n",
    "print(cs)\n"
   ]
  },
  {
   "cell_type": "code",
   "execution_count": 30,
   "metadata": {},
   "outputs": [
    {
     "name": "stdout",
     "output_type": "stream",
     "text": [
      "2023\n"
     ]
    }
   ],
   "source": [
    "import datetime\n",
    "from datetime import date, timedelta\n",
    "\n",
    "week_ago= pd.Timestamp.now().date()\n",
    "\n",
    "week_ago = week_ago.year\n",
    "\n",
    "\n",
    "print(week_ago)"
   ]
  },
  {
   "cell_type": "code",
   "execution_count": null,
   "metadata": {},
   "outputs": [],
   "source": [
    "def add_indicator(indicator_name, indicator_settings):\n",
    "\n",
    "    html.Div(\n",
    "        [\n",
    "            dbc.Button(f\"{indicator_name}({indicator_settings})\", color=\"primary\", className=\"me-1\"),\n",
    "            dbc.Button(\"X\", color=\"primary\", className=\"me-1\"),\n",
    "        ]   \n",
    "    )"
   ]
  },
  {
   "cell_type": "code",
   "execution_count": null,
   "metadata": {},
   "outputs": [],
   "source": [
    "@app.callback(Output(\"ticker_cndl_chart\", \"figure\"), [Input(\"ma_modal_ok\", \"n_clicks\"), Input(\"bb_modal_ok\", \"n_clicks\")], [State(\"input_ticker\", \"value\"),\n",
    "        State(\"interval_dropdown\", \"value\"),\n",
    "        State(\"date_picker\", \"start_date\"),\n",
    "        State(\"date_picker\", \"end_date\"),State(\"ma_length\", \"value\"),\n",
    "    State(\"bb_length\", \"value\"),\n",
    "    State(\"bb_std\", \"value\"),])\n",
    "\n",
    "def update_indicators(ma_ok,\n",
    "    bb_ok, ticker_value,\n",
    "    interval_value,\n",
    "    start_date,\n",
    "    end_date,\n",
    "    ma_length,\n",
    "    bb_length,\n",
    "    bb_std):\n",
    "\n",
    "    if ma_ok != None:\n",
    "    add_moving_average(\n",
    "        ma_length,\n",
    "        ticker,\n",
    "        fig_data,\n",
    "        ticker_value,\n",
    "        interval_value,\n",
    "        start_date,\n",
    "        end_date,\n",
    "    )\n",
    "    \n",
    "    if bb_ok:\n",
    "    add_bollinger_bands(\n",
    "        bb_length,\n",
    "        bb_std,\n",
    "        ticker,\n",
    "        fig_data,\n",
    "        ticker_value,\n",
    "        interval_value,\n",
    "        start_date,\n",
    "        end_date,\n",
    "    )\n",
    "\n",
    "\n",
    "    \n"
   ]
  },
  {
   "cell_type": "code",
   "execution_count": 1,
   "metadata": {},
   "outputs": [
    {
     "name": "stdout",
     "output_type": "stream",
     "text": [
      "United States\n"
     ]
    }
   ],
   "source": [
    "\n"
   ]
  },
  {
   "cell_type": "code",
   "execution_count": 21,
   "metadata": {},
   "outputs": [
    {
     "ename": "KeyError",
     "evalue": "'currency'",
     "output_type": "error",
     "traceback": [
      "\u001b[1;31m---------------------------------------------------------------------------\u001b[0m",
      "\u001b[1;31mKeyError\u001b[0m                                  Traceback (most recent call last)",
      "\u001b[1;32m~\\AppData\\Local\\Temp/ipykernel_17496/1271672941.py\u001b[0m in \u001b[0;36m<module>\u001b[1;34m\u001b[0m\n\u001b[0;32m      5\u001b[0m \u001b[1;33m\u001b[0m\u001b[0m\n\u001b[0;32m      6\u001b[0m \u001b[0mticker\u001b[0m \u001b[1;33m=\u001b[0m \u001b[0mTicker\u001b[0m\u001b[1;33m(\u001b[0m\u001b[1;34m\"V\"\u001b[0m\u001b[1;33m)\u001b[0m\u001b[1;33m\u001b[0m\u001b[1;33m\u001b[0m\u001b[0m\n\u001b[1;32m----> 7\u001b[1;33m \u001b[0minfo\u001b[0m \u001b[1;33m=\u001b[0m \u001b[0mticker\u001b[0m\u001b[1;33m.\u001b[0m\u001b[0mprice\u001b[0m\u001b[1;33m[\u001b[0m\u001b[1;34m\"currency\"\u001b[0m\u001b[1;33m]\u001b[0m\u001b[1;33m\u001b[0m\u001b[1;33m\u001b[0m\u001b[0m\n\u001b[0m\u001b[0;32m      8\u001b[0m \u001b[1;33m\u001b[0m\u001b[0m\n\u001b[0;32m      9\u001b[0m \u001b[1;33m\u001b[0m\u001b[0m\n",
      "\u001b[1;31mKeyError\u001b[0m: 'currency'"
     ]
    }
   ],
   "source": [
    "import pandas as pd\n",
    "import yahooquery as yq\n",
    "from yahooquery import Ticker\n",
    "\n",
    "\n",
    "ticker = Ticker(\"V\")\n",
    "info = ticker.price[\"currency\"]\n",
    "\n",
    "\n",
    "print(info)"
   ]
  },
  {
   "cell_type": "code",
   "execution_count": 38,
   "metadata": {},
   "outputs": [],
   "source": [
    "import requests\n",
    "from bs4 import BeautifulSoup as bs\n",
    "import re\n",
    "\n",
    "def find_logo(ticker):\n",
    "    \"\"\"Scrapes TradingView website in order to get logo of company based on provided ticker\"\"\"\n",
    "\n",
    "    url = f\"https://www.tradingview.com/symbols/{ticker}\"\n",
    "    pattern = r'src=\"(.*?)\"'\n",
    "\n",
    "    response = requests.get(url)\n",
    "    soup = bs(response.content, \"html.parser\")\n",
    "    img_elements = soup.find_all('img', class_='tv-circle-logo tv-circle-logo--xxlarge medium-xoKMfU7r')\n",
    "    img_element = str(img_elements[0])\n",
    "    match = re.findall(pattern, img_element)\n",
    "    logo_url = match[0]\n",
    "\n",
    "    return logo_url\n"
   ]
  },
  {
   "cell_type": "code",
   "execution_count": 39,
   "metadata": {},
   "outputs": [
    {
     "name": "stdout",
     "output_type": "stream",
     "text": [
      "https://s3-symbol-logo.tradingview.com/apple--big.svg\n"
     ]
    }
   ],
   "source": [
    "x = find_logo(\"AAPL\")\n",
    "\n",
    "print(x)"
   ]
  },
  {
   "cell_type": "code",
   "execution_count": 44,
   "metadata": {},
   "outputs": [],
   "source": [
    "import pycountry\n",
    "\n",
    "def find_flag(country):\n",
    "    \"\"\"Finds flag for company origin country via pycountry library\"\"\"\n",
    "\n",
    "    flag = pycountry.countries.search_fuzzy(country)\n",
    "\n",
    "    return flag[0].emoji"
   ]
  },
  {
   "cell_type": "code",
   "execution_count": 48,
   "metadata": {},
   "outputs": [
    {
     "ename": "AttributeError",
     "evalue": "",
     "output_type": "error",
     "traceback": [
      "\u001b[1;31m---------------------------------------------------------------------------\u001b[0m",
      "\u001b[1;31mAttributeError\u001b[0m                            Traceback (most recent call last)",
      "\u001b[1;32m~\\AppData\\Local\\Temp/ipykernel_21332/1191456288.py\u001b[0m in \u001b[0;36m<module>\u001b[1;34m\u001b[0m\n\u001b[1;32m----> 1\u001b[1;33m \u001b[0mx\u001b[0m \u001b[1;33m=\u001b[0m \u001b[0mfind_flag\u001b[0m\u001b[1;33m(\u001b[0m\u001b[1;34m\"Poland\"\u001b[0m\u001b[1;33m)\u001b[0m\u001b[1;33m\u001b[0m\u001b[1;33m\u001b[0m\u001b[0m\n\u001b[0m\u001b[0;32m      2\u001b[0m \u001b[1;33m\u001b[0m\u001b[0m\n\u001b[0;32m      3\u001b[0m \u001b[0mprint\u001b[0m\u001b[1;33m(\u001b[0m\u001b[0mtype\u001b[0m\u001b[1;33m(\u001b[0m\u001b[0mx\u001b[0m\u001b[1;33m)\u001b[0m\u001b[1;33m)\u001b[0m\u001b[1;33m\u001b[0m\u001b[1;33m\u001b[0m\u001b[0m\n",
      "\u001b[1;32m~\\AppData\\Local\\Temp/ipykernel_21332/3908811594.py\u001b[0m in \u001b[0;36mfind_flag\u001b[1;34m(country)\u001b[0m\n\u001b[0;32m      6\u001b[0m     \u001b[0mflag\u001b[0m \u001b[1;33m=\u001b[0m \u001b[0mpycountry\u001b[0m\u001b[1;33m.\u001b[0m\u001b[0mcountries\u001b[0m\u001b[1;33m.\u001b[0m\u001b[0msearch_fuzzy\u001b[0m\u001b[1;33m(\u001b[0m\u001b[0mcountry\u001b[0m\u001b[1;33m)\u001b[0m\u001b[1;33m\u001b[0m\u001b[1;33m\u001b[0m\u001b[0m\n\u001b[0;32m      7\u001b[0m \u001b[1;33m\u001b[0m\u001b[0m\n\u001b[1;32m----> 8\u001b[1;33m     \u001b[1;32mreturn\u001b[0m \u001b[0mflag\u001b[0m\u001b[1;33m[\u001b[0m\u001b[1;36m0\u001b[0m\u001b[1;33m]\u001b[0m\u001b[1;33m.\u001b[0m\u001b[0memoji\u001b[0m\u001b[1;33m\u001b[0m\u001b[1;33m\u001b[0m\u001b[0m\n\u001b[0m",
      "\u001b[1;32mc:\\Users\\Tomasz\\anaconda3\\lib\\site-packages\\pycountry\\db.py\u001b[0m in \u001b[0;36m__getattr__\u001b[1;34m(self, key)\u001b[0m\n\u001b[0;32m     15\u001b[0m     \u001b[1;32mdef\u001b[0m \u001b[0m__getattr__\u001b[0m\u001b[1;33m(\u001b[0m\u001b[0mself\u001b[0m\u001b[1;33m,\u001b[0m \u001b[0mkey\u001b[0m\u001b[1;33m)\u001b[0m\u001b[1;33m:\u001b[0m\u001b[1;33m\u001b[0m\u001b[1;33m\u001b[0m\u001b[0m\n\u001b[0;32m     16\u001b[0m         \u001b[1;32mif\u001b[0m \u001b[0mkey\u001b[0m \u001b[1;32mnot\u001b[0m \u001b[1;32min\u001b[0m \u001b[0mself\u001b[0m\u001b[1;33m.\u001b[0m\u001b[0m_fields\u001b[0m\u001b[1;33m:\u001b[0m\u001b[1;33m\u001b[0m\u001b[1;33m\u001b[0m\u001b[0m\n\u001b[1;32m---> 17\u001b[1;33m             \u001b[1;32mraise\u001b[0m \u001b[0mAttributeError\u001b[0m\u001b[1;33m\u001b[0m\u001b[1;33m\u001b[0m\u001b[0m\n\u001b[0m\u001b[0;32m     18\u001b[0m         \u001b[1;32mreturn\u001b[0m \u001b[0mself\u001b[0m\u001b[1;33m.\u001b[0m\u001b[0m_fields\u001b[0m\u001b[1;33m[\u001b[0m\u001b[0mkey\u001b[0m\u001b[1;33m]\u001b[0m\u001b[1;33m\u001b[0m\u001b[1;33m\u001b[0m\u001b[0m\n\u001b[0;32m     19\u001b[0m \u001b[1;33m\u001b[0m\u001b[0m\n",
      "\u001b[1;31mAttributeError\u001b[0m: "
     ]
    }
   ],
   "source": [
    "x = find_flag(\"Poland\")\n",
    "\n",
    "print(type(x))"
   ]
  },
  {
   "cell_type": "code",
   "execution_count": 10,
   "metadata": {},
   "outputs": [
    {
     "name": "stdout",
     "output_type": "stream",
     "text": [
      "PL\n"
     ]
    }
   ],
   "source": [
    "import pycountry    \n",
    "\n",
    "country_info = pycountry.countries.search_fuzzy(\"Poland\")\n",
    "country_code = country_info[0].alpha_2\n",
    "\n",
    "print(country_code)"
   ]
  },
  {
   "cell_type": "code",
   "execution_count": 24,
   "metadata": {},
   "outputs": [
    {
     "name": "stdout",
     "output_type": "stream",
     "text": [
      "USD\n"
     ]
    }
   ],
   "source": [
    "import pandas as pd\n",
    "import yfinance as yf\n",
    "\n",
    "\n",
    "ticker = yf.Ticker(\"AAPL\")\n",
    "\n",
    "logo_url = ticker.info[\"currency\"]\n",
    " \n",
    "print(logo_url)"
   ]
  },
  {
   "cell_type": "code",
   "execution_count": 13,
   "metadata": {},
   "outputs": [],
   "source": [
    "import requests\n",
    "from bs4 import BeautifulSoup as bs\n",
    "import re\n",
    "import pycountry\n",
    "\n",
    "\n",
    "def find_logo(ticker):\n",
    "    \"\"\"Scrapes TradingView website in order to get logo of company based on provided ticker\"\"\"\n",
    "\n",
    "    url = f\"https://www.tradingview.com/symbols/{ticker}\"\n",
    "    pattern = r'src=\"(.*?)\"'\n",
    "\n",
    "    response = requests.get(url)\n",
    "    soup = bs(response.content, \"html.parser\")\n",
    "    img_elements = soup.find_all(\n",
    "        \"img\", class_=\"tv-circle-logo tv-circle-logo--xxlarge medium-xoKMfU7r\"\n",
    "    )\n",
    "    img_element = str(img_elements[0])\n",
    "    match = re.findall(pattern, img_element)\n",
    "    logo_url = match[0]\n",
    "\n",
    "    return logo_url\n",
    "\n",
    "def logo_bg_color(logo_url):\n",
    "\n",
    "    pattern = r'fill=\"(.*?)\"'\n",
    "\n",
    "    response = requests.get(logo_url)\n",
    "    soup = bs(response.content, \"html.parser\")\n",
    "    logo_bg_color = str((soup.find_all(\"path\"))[0])\n",
    "    match = re.findall(pattern, logo_bg_color)\n",
    "\n",
    "    return match[0]"
   ]
  },
  {
   "cell_type": "code",
   "execution_count": 16,
   "metadata": {},
   "outputs": [],
   "source": [
    "logo_url = find_logo(\"AAPL\")"
   ]
  },
  {
   "cell_type": "code",
   "execution_count": 17,
   "metadata": {},
   "outputs": [
    {
     "name": "stdout",
     "output_type": "stream",
     "text": [
      "url(#paint0_linear)\n"
     ]
    }
   ],
   "source": [
    "bg_color = logo_bg_color(logo_url)\n",
    "\n",
    "print(bg_color)"
   ]
  },
  {
   "cell_type": "code",
   "execution_count": 1,
   "metadata": {},
   "outputs": [],
   "source": [
    "import yahooquery as yq\n",
    "from yahooquery import Ticker\n",
    "import numpy as np\n",
    "\n",
    "\n",
    "def value_rating(ticker_text):\n",
    "    ticker = Ticker(ticker_text)\n",
    "    pe_ratio = ticker.summary_detail[\"trailingPE\"]\n",
    "    if pe_ratio < 5:\n",
    "        return 5\n",
    "    elif pe_ratio < 10:\n",
    "        return 4\n",
    "    elif pe_ratio < 15:\n",
    "        return 3\n",
    "    elif pe_ratio < 20:\n",
    "        return 2\n",
    "    elif pe_ratio < 25:\n",
    "        return 1\n",
    "    else:\n",
    "        return 0"
   ]
  },
  {
   "cell_type": "code",
   "execution_count": 6,
   "metadata": {},
   "outputs": [
    {
     "name": "stdout",
     "output_type": "stream",
     "text": [
      "31.502556\n"
     ]
    }
   ],
   "source": [
    "ticker = Ticker(\"AAPL\")\n",
    "\n",
    "print(ticker.summary_detail[\"AAPL\"][\"trailingPE\"])"
   ]
  },
  {
   "cell_type": "code",
   "execution_count": 16,
   "metadata": {},
   "outputs": [],
   "source": [
    "def stability_rating(ohlc_data):\n",
    "    data_length = len(ohlc_data.index)\n",
    "    ohlc_data[\"Log Returns\"] = np.log(ohlc_data[\"Close\"] / ohlc_data[\"Close\"].shift(1))\n",
    "    volatility = ohlc_data[\"Log Returns\"].std() * np.sqrt(data_length)\n",
    "\n",
    "    return volatility"
   ]
  },
  {
   "cell_type": "code",
   "execution_count": 17,
   "metadata": {},
   "outputs": [
    {
     "name": "stdout",
     "output_type": "stream",
     "text": [
      "[*********************100%***********************]  1 of 1 completed\n",
      "0.29856320400093783\n"
     ]
    }
   ],
   "source": [
    "import yfinance as yf\n",
    "data = yf.download(\n",
    "            tickers=\"AAPL\",\n",
    "            interval=\"1d\",\n",
    "            period=\"1y\",\n",
    "            prepost=False,\n",
    "            threads=True,\n",
    "        )\n",
    "data2 = stability_rating(data)\n",
    "\n",
    "print(data2)"
   ]
  },
  {
   "cell_type": "code",
   "execution_count": 20,
   "metadata": {},
   "outputs": [],
   "source": [
    "def future_rating(ticker_text):\n",
    "\n",
    "    ticker = Ticker(ticker_text)\n",
    "    forward_eps = ticker.key_stats[ticker_text][\"forwardEps\"] * 100\n",
    "    return forward_eps"
   ]
  },
  {
   "cell_type": "code",
   "execution_count": 21,
   "metadata": {},
   "outputs": [
    {
     "name": "stdout",
     "output_type": "stream",
     "text": [
      "656.0\n"
     ]
    }
   ],
   "source": [
    "x = future_rating(\"AAPL\")\n",
    "\n",
    "print(x)"
   ]
  },
  {
   "cell_type": "code",
   "execution_count": 12,
   "metadata": {},
   "outputs": [],
   "source": [
    "import yahooquery as yq\n",
    "from yahooquery import Ticker\n",
    "import numpy as np\n",
    "import yfinance as yf\n",
    "\n",
    "\n",
    "def value_rating(ticker_text):\n",
    "    ticker = Ticker(ticker_text)\n",
    "    try:\n",
    "        pe_ratio = ticker.summary_detail[ticker_text][\"trailingPE\"]\n",
    "    except KeyError:\n",
    "        return 0\n",
    "    print(f\"value {pe_ratio}\")\n",
    "    if pe_ratio < 20:\n",
    "        return 5\n",
    "    elif pe_ratio < 30:\n",
    "        return 4\n",
    "    elif pe_ratio < 50:\n",
    "        return 3\n",
    "    elif pe_ratio < 70:\n",
    "        return 2\n",
    "    else:\n",
    "        return 1\n",
    "\n",
    "\n",
    "def debt_rating(ticker_text):\n",
    "    ticker = Ticker(ticker_text)\n",
    "    try:\n",
    "        de_ratio = ticker.financial_data[ticker_text][\"debtToEquity\"] / 100\n",
    "    except KeyError:\n",
    "        return 0\n",
    "    print(f\"debt {de_ratio}\")\n",
    "    if de_ratio < 0.25:\n",
    "        return 5\n",
    "    elif de_ratio < 0.5:\n",
    "        return 4\n",
    "    elif de_ratio < 1:\n",
    "        return 3\n",
    "    elif de_ratio < 3:\n",
    "        return 2\n",
    "    else:\n",
    "        return 1\n",
    "\n",
    "\n",
    "def stability_rating(ohlc_data):\n",
    "    try:\n",
    "        data_length = len(ohlc_data.index)\n",
    "        ohlc_data[\"Log Returns\"] = np.log(\n",
    "            ohlc_data[\"Close\"] / ohlc_data[\"Close\"].shift(1)\n",
    "        )\n",
    "        volatility = ohlc_data[\"Log Returns\"].std() * np.sqrt(data_length)\n",
    "    except:\n",
    "        return 0\n",
    "    print(f\"stability {volatility}\")\n",
    "    if volatility < 0.3:\n",
    "        return 5\n",
    "    elif volatility < 0.4:\n",
    "        return 4\n",
    "    elif volatility < 0.6:\n",
    "        return 3\n",
    "    elif volatility < 0.8:\n",
    "        return 2\n",
    "    else:\n",
    "        return 1\n",
    "\n",
    "\n",
    "def dividend_rating(ticker_text):\n",
    "    ticker = Ticker(ticker_text)\n",
    "    try:\n",
    "        dividend_yield = (\n",
    "            ticker.summary_detail[ticker_text][\"trailingAnnualDividendYield\"] * 100\n",
    "        )\n",
    "    except KeyError:\n",
    "        return 0\n",
    "    print(f\"dividends {dividend_yield}\")\n",
    "    if dividend_yield > 5:\n",
    "        return 5\n",
    "    elif dividend_yield > 3:\n",
    "        return 4\n",
    "    elif dividend_yield > 2:\n",
    "        return 3\n",
    "    elif dividend_yield > 1:\n",
    "        return 2\n",
    "    elif dividend_yield > 0:\n",
    "        return 1\n",
    "    else:\n",
    "        return 0\n",
    "\n",
    "\n",
    "def future_rating(ticker_text):\n",
    "\n",
    "    ticker = Ticker(ticker_text)\n",
    "    try:\n",
    "        forward_eps = ticker.key_stats[ticker_text][\"forwardEps\"]\n",
    "    except KeyError:\n",
    "        return 0\n",
    "    print(f\"future {forward_eps}\")\n",
    "    if forward_eps > 15:\n",
    "        return 5\n",
    "    elif forward_eps > 12:\n",
    "        return 4\n",
    "    elif forward_eps > 8:\n",
    "        return 3\n",
    "    elif forward_eps > 4:\n",
    "        return 2\n",
    "    else:\n",
    "        return 1\n",
    "\n",
    "\n",
    "def check_all(ticker_text):\n",
    "\n",
    "    price_data = yf.download(\n",
    "        tickers=ticker_text, interval=\"1d\", period=\"1y\", prepost=False, threads=True,\n",
    "    )\n",
    "    price_data = price_data.reset_index()\n",
    "\n",
    "    value = value_rating(ticker_text)\n",
    "    debt = debt_rating(ticker_text)\n",
    "    stability = stability_rating(price_data)\n",
    "    dividend = dividend_rating(ticker_text)\n",
    "    future = future_rating(ticker_text)\n",
    "\n",
    "    list = [value, debt, stability, dividend, future]\n",
    "\n",
    "    print(list)\n",
    "\n",
    "    return True\n",
    "\n"
   ]
  },
  {
   "cell_type": "code",
   "execution_count": 13,
   "metadata": {},
   "outputs": [],
   "source": [
    "def multix(ticker_list):\n",
    "    for x in ticker_list:\n",
    "        check_all(x)\n"
   ]
  },
  {
   "cell_type": "code",
   "execution_count": 14,
   "metadata": {},
   "outputs": [
    {
     "name": "stdout",
     "output_type": "stream",
     "text": [
      "[*********************100%***********************]  1 of 1 completed\n",
      "value 31.342373\n",
      "debt 1.76349\n",
      "stability 0.29856320400093783\n",
      "dividends 0.4945971\n",
      "future 6.56\n",
      "[3, 2, 5, 1, 2]\n",
      "[*********************100%***********************]  1 of 1 completed\n",
      "value 33.89626\n",
      "debt 0.22646999999999998\n",
      "stability 0.5699269181922835\n",
      "dividends 0.0\n",
      "future 14.63\n",
      "[3, 5, 3, 0, 4]\n",
      "[*********************100%***********************]  1 of 1 completed\n",
      "value 557.2631\n",
      "debt 0.24234999999999998\n",
      "stability 0.39836035682903853\n",
      "dividends 0.0\n",
      "future 8.21\n",
      "[1, 5, 4, 0, 3]\n",
      "[*********************100%***********************]  1 of 1 completed\n",
      "value 37.129066\n",
      "debt 0.40739\n",
      "stability 0.3235797440190336\n",
      "dividends 0.76414826\n",
      "future 10.95\n",
      "[3, 4, 4, 1, 3]\n",
      "[*********************100%***********************]  1 of 1 completed\n",
      "value 23.112627\n",
      "debt 1.06843\n",
      "stability 0.25989456449889015\n",
      "dividends 3.2446045\n",
      "future 8.13\n",
      "[4, 2, 5, 4, 3]\n",
      "[*********************100%***********************]  1 of 1 completed\n",
      "value 30.562084\n",
      "debt 0.53432\n",
      "stability 0.2212745119128532\n",
      "dividends 0.7627006599999999\n",
      "future 8.94\n",
      "[3, 3, 5, 1, 3]\n",
      "[*********************100%***********************]  1 of 1 completed\n",
      "value 41.69745\n",
      "debt 1.71057\n",
      "stability 0.23603148213473718\n",
      "dividends 0.0\n",
      "future 8.79\n",
      "[3, 2, 5, 0, 3]\n",
      "[*********************100%***********************]  1 of 1 completed\n",
      "value 23.257576\n",
      "debt 0.17074\n",
      "stability 0.5341262871522084\n",
      "dividends 0.0\n",
      "future 9.31\n",
      "[4, 5, 3, 0, 3]\n",
      "[*********************100%***********************]  1 of 1 completed\n",
      "value 14.540356\n",
      "debt 0.74655\n",
      "stability 0.2888710725939466\n",
      "dividends 0.3035765\n",
      "future 4.01\n",
      "[5, 3, 5, 1, 2]\n",
      "[*********************100%***********************]  1 of 1 completed\n",
      "value 14.216129\n",
      "stability 0.21701987271212073\n",
      "dividends 8.4258206\n",
      "future 5.19\n",
      "[5, 0, 5, 5, 2]\n",
      "[*********************100%***********************]  1 of 1 completed\n",
      "debt 0.16543\n",
      "stability 0.7367749396276724\n",
      "dividends 0.0\n",
      "future 0.55\n",
      "[0, 5, 2, 0, 1]\n",
      "[*********************100%***********************]  1 of 1 completed\n",
      "value 12.190751\n",
      "stability 0.3114901396712592\n",
      "dividends 2.7148252\n",
      "future 4.84\n",
      "[5, 0, 4, 3, 2]\n",
      "[*********************100%***********************]  1 of 1 completed\n",
      "value 34.502098\n",
      "debt 0.74655\n",
      "stability 0.1614868434068961\n",
      "dividends 2.7606426\n",
      "future 11.0\n",
      "[3, 3, 5, 3, 3]\n",
      "[*********************100%***********************]  1 of 1 completed\n",
      "value 7.117806\n",
      "debt 0.20079\n",
      "stability 0.3100987767868732\n",
      "dividends 3.3808667\n",
      "future 9.12\n",
      "[5, 5, 4, 4, 3]\n"
     ]
    }
   ],
   "source": [
    "ticker_list =[\"AAPL\", \"META\", \"CRM\", \"MSFT\", \"CVS\",\"V\", \"TMUS\",\"BABA\", \"GE\",\"MO\", \"SHOP\",\"WFC\", \"JNJ\", \"XOM\"]\n",
    "\n",
    "multix(ticker_list)"
   ]
  },
  {
   "cell_type": "code",
   "execution_count": 52,
   "metadata": {},
   "outputs": [
    {
     "ename": "TypeError",
     "evalue": "object of type 'builtin_function_or_method' has no len()",
     "output_type": "error",
     "traceback": [
      "\u001b[1;31m---------------------------------------------------------------------------\u001b[0m",
      "\u001b[1;31mTypeError\u001b[0m                                 Traceback (most recent call last)",
      "\u001b[1;32m~\\AppData\\Local\\Temp/ipykernel_17120/3712473830.py\u001b[0m in \u001b[0;36m<module>\u001b[1;34m\u001b[0m\n\u001b[1;32m----> 1\u001b[1;33m \u001b[0mx\u001b[0m \u001b[1;33m=\u001b[0m \u001b[0mstability_rating\u001b[0m\u001b[1;33m(\u001b[0m\u001b[1;34m\"GME\"\u001b[0m\u001b[1;33m)\u001b[0m\u001b[1;33m\u001b[0m\u001b[1;33m\u001b[0m\u001b[0m\n\u001b[0m",
      "\u001b[1;32m~\\AppData\\Local\\Temp/ipykernel_17120/2700893597.py\u001b[0m in \u001b[0;36mstability_rating\u001b[1;34m(ohlc_data)\u001b[0m\n\u001b[0;32m     38\u001b[0m \u001b[1;33m\u001b[0m\u001b[0m\n\u001b[0;32m     39\u001b[0m \u001b[1;32mdef\u001b[0m \u001b[0mstability_rating\u001b[0m\u001b[1;33m(\u001b[0m\u001b[0mohlc_data\u001b[0m\u001b[1;33m)\u001b[0m\u001b[1;33m:\u001b[0m\u001b[1;33m\u001b[0m\u001b[1;33m\u001b[0m\u001b[0m\n\u001b[1;32m---> 40\u001b[1;33m     \u001b[0mdata_length\u001b[0m \u001b[1;33m=\u001b[0m \u001b[0mlen\u001b[0m\u001b[1;33m(\u001b[0m\u001b[0mohlc_data\u001b[0m\u001b[1;33m.\u001b[0m\u001b[0mindex\u001b[0m\u001b[1;33m)\u001b[0m\u001b[1;33m\u001b[0m\u001b[1;33m\u001b[0m\u001b[0m\n\u001b[0m\u001b[0;32m     41\u001b[0m     \u001b[0mohlc_data\u001b[0m\u001b[1;33m[\u001b[0m\u001b[1;34m\"Log Returns\"\u001b[0m\u001b[1;33m]\u001b[0m \u001b[1;33m=\u001b[0m \u001b[0mnp\u001b[0m\u001b[1;33m.\u001b[0m\u001b[0mlog\u001b[0m\u001b[1;33m(\u001b[0m\u001b[0mohlc_data\u001b[0m\u001b[1;33m[\u001b[0m\u001b[1;34m\"Close\"\u001b[0m\u001b[1;33m]\u001b[0m \u001b[1;33m/\u001b[0m \u001b[0mohlc_data\u001b[0m\u001b[1;33m[\u001b[0m\u001b[1;34m\"Close\"\u001b[0m\u001b[1;33m]\u001b[0m\u001b[1;33m.\u001b[0m\u001b[0mshift\u001b[0m\u001b[1;33m(\u001b[0m\u001b[1;36m1\u001b[0m\u001b[1;33m)\u001b[0m\u001b[1;33m)\u001b[0m\u001b[1;33m\u001b[0m\u001b[1;33m\u001b[0m\u001b[0m\n\u001b[0;32m     42\u001b[0m     \u001b[0mvolatility\u001b[0m \u001b[1;33m=\u001b[0m \u001b[0mohlc_data\u001b[0m\u001b[1;33m[\u001b[0m\u001b[1;34m\"Log Returns\"\u001b[0m\u001b[1;33m]\u001b[0m\u001b[1;33m.\u001b[0m\u001b[0mstd\u001b[0m\u001b[1;33m(\u001b[0m\u001b[1;33m)\u001b[0m \u001b[1;33m*\u001b[0m \u001b[0mnp\u001b[0m\u001b[1;33m.\u001b[0m\u001b[0msqrt\u001b[0m\u001b[1;33m(\u001b[0m\u001b[0mdata_length\u001b[0m\u001b[1;33m)\u001b[0m\u001b[1;33m\u001b[0m\u001b[1;33m\u001b[0m\u001b[0m\n",
      "\u001b[1;31mTypeError\u001b[0m: object of type 'builtin_function_or_method' has no len()"
     ]
    }
   ],
   "source": [
    "x = stability_rating(\"GME\")"
   ]
  },
  {
   "cell_type": "code",
   "execution_count": 15,
   "metadata": {},
   "outputs": [
    {
     "name": "stdout",
     "output_type": "stream",
     "text": [
      "[*********************100%***********************]  1 of 1 completed\n",
      "debt 0.51156\n",
      "stability 0.795907924077086\n",
      "dividends 0.0\n",
      "future -0.25\n",
      "[0, 3, 2, 0, 1]\n"
     ]
    },
    {
     "data": {
      "text/plain": [
       "True"
      ]
     },
     "execution_count": 15,
     "metadata": {},
     "output_type": "execute_result"
    }
   ],
   "source": [
    "check_all(\"GME\")"
   ]
  },
  {
   "cell_type": "code",
   "execution_count": 2,
   "metadata": {},
   "outputs": [
    {
     "name": "stdout",
     "output_type": "stream",
     "text": [
      "2023\n"
     ]
    }
   ],
   "source": [
    "from datetime import datetime\n",
    "current_year = int((datetime.now()).strftime(\"%Y\"))\n",
    "print(current_year)"
   ]
  },
  {
   "cell_type": "code",
   "execution_count": 9,
   "metadata": {},
   "outputs": [
    {
     "name": "stderr",
     "output_type": "stream",
     "text": [
      "C:\\Users\\Tomasz\\AppData\\Local\\Temp/ipykernel_7428/31333177.py:11: FutureWarning: In a future version of pandas all arguments of DataFrame.drop except for the argument 'labels' will be keyword-only\n",
      "  table_data.drop(0,0, inplace=True)\n",
      "C:\\Users\\Tomasz\\AppData\\Local\\Temp/ipykernel_7428/31333177.py:31: FutureWarning: In a future version of pandas all arguments of DataFrame.drop except for the argument 'labels' will be keyword-only\n",
      "  new_table_data.drop(new_table_data.index[1], 0, inplace=True)\n",
      "C:\\Users\\Tomasz\\AppData\\Local\\Temp/ipykernel_7428/31333177.py:32: FutureWarning: In a future version of pandas all arguments of DataFrame.drop except for the argument 'labels' will be keyword-only\n",
      "  new_table_data.drop(new_table_data.index[0], 0, inplace=True)\n"
     ]
    },
    {
     "data": {
      "text/html": [
       "<div>\n",
       "<style scoped>\n",
       "    .dataframe tbody tr th:only-of-type {\n",
       "        vertical-align: middle;\n",
       "    }\n",
       "\n",
       "    .dataframe tbody tr th {\n",
       "        vertical-align: top;\n",
       "    }\n",
       "\n",
       "    .dataframe thead th {\n",
       "        text-align: right;\n",
       "    }\n",
       "</style>\n",
       "<table border=\"1\" class=\"dataframe\">\n",
       "  <thead>\n",
       "    <tr style=\"text-align: right;\">\n",
       "      <th></th>\n",
       "      <th></th>\n",
       "      <th>2022-12-31 00:00:00</th>\n",
       "      <th>2022-12-31 00:00:00</th>\n",
       "      <th>2023-03-31 00:00:00</th>\n",
       "      <th>2023-03-31 00:00:00</th>\n",
       "    </tr>\n",
       "  </thead>\n",
       "  <tbody>\n",
       "    <tr>\n",
       "      <th>0</th>\n",
       "      <td>BasicAverageShares</td>\n",
       "      <td>15,892,723,000.0</td>\n",
       "      <td>nan</td>\n",
       "      <td>15,787,154,000.0</td>\n",
       "      <td>nan</td>\n",
       "    </tr>\n",
       "    <tr>\n",
       "      <th>1</th>\n",
       "      <td>BasicEPS</td>\n",
       "      <td>1.89</td>\n",
       "      <td>nan</td>\n",
       "      <td>1.53</td>\n",
       "      <td>nan</td>\n",
       "    </tr>\n",
       "    <tr>\n",
       "      <th>2</th>\n",
       "      <td>CostOfRevenue</td>\n",
       "      <td>66,822,000,000.0</td>\n",
       "      <td>220,666,000,000.0</td>\n",
       "      <td>52,860,000,000.0</td>\n",
       "      <td>218,807,000,000.0</td>\n",
       "    </tr>\n",
       "    <tr>\n",
       "      <th>3</th>\n",
       "      <td>DilutedAverageShares</td>\n",
       "      <td>15,955,718,000.0</td>\n",
       "      <td>nan</td>\n",
       "      <td>15,847,050,000.0</td>\n",
       "      <td>nan</td>\n",
       "    </tr>\n",
       "    <tr>\n",
       "      <th>4</th>\n",
       "      <td>DilutedEPS</td>\n",
       "      <td>1.88</td>\n",
       "      <td>nan</td>\n",
       "      <td>1.52</td>\n",
       "      <td>nan</td>\n",
       "    </tr>\n",
       "    <tr>\n",
       "      <th>5</th>\n",
       "      <td>DilutedNIAvailtoComStockholders</td>\n",
       "      <td>29,998,000,000.0</td>\n",
       "      <td>95,171,000,000.0</td>\n",
       "      <td>24,160,000,000.0</td>\n",
       "      <td>94,321,000,000.0</td>\n",
       "    </tr>\n",
       "    <tr>\n",
       "      <th>6</th>\n",
       "      <td>EBIT</td>\n",
       "      <td>36,016,000,000.0</td>\n",
       "      <td>116,725,000,000.0</td>\n",
       "      <td>28,318,000,000.0</td>\n",
       "      <td>115,207,000,000.0</td>\n",
       "    </tr>\n",
       "    <tr>\n",
       "      <th>7</th>\n",
       "      <td>EBITDA</td>\n",
       "      <td>nan</td>\n",
       "      <td>128,048,000,000.0</td>\n",
       "      <td>nan</td>\n",
       "      <td>126,691,000,000.0</td>\n",
       "    </tr>\n",
       "    <tr>\n",
       "      <th>8</th>\n",
       "      <td>GrossProfit</td>\n",
       "      <td>50,332,000,000.0</td>\n",
       "      <td>166,871,000,000.0</td>\n",
       "      <td>41,976,000,000.0</td>\n",
       "      <td>166,288,000,000.0</td>\n",
       "    </tr>\n",
       "    <tr>\n",
       "      <th>9</th>\n",
       "      <td>InterestExpense</td>\n",
       "      <td>1,003,000,000.0</td>\n",
       "      <td>3,240,000,000.0</td>\n",
       "      <td>930,000,000.0</td>\n",
       "      <td>3,479,000,000.0</td>\n",
       "    </tr>\n",
       "    <tr>\n",
       "      <th>10</th>\n",
       "      <td>InterestExpenseNonOperating</td>\n",
       "      <td>1,003,000,000.0</td>\n",
       "      <td>3,240,000,000.0</td>\n",
       "      <td>930,000,000.0</td>\n",
       "      <td>3,479,000,000.0</td>\n",
       "    </tr>\n",
       "    <tr>\n",
       "      <th>11</th>\n",
       "      <td>InterestIncome</td>\n",
       "      <td>868,000,000.0</td>\n",
       "      <td>3,043,000,000.0</td>\n",
       "      <td>918,000,000.0</td>\n",
       "      <td>3,261,000,000.0</td>\n",
       "    </tr>\n",
       "    <tr>\n",
       "      <th>12</th>\n",
       "      <td>InterestIncomeNonOperating</td>\n",
       "      <td>868,000,000.0</td>\n",
       "      <td>3,043,000,000.0</td>\n",
       "      <td>918,000,000.0</td>\n",
       "      <td>3,261,000,000.0</td>\n",
       "    </tr>\n",
       "    <tr>\n",
       "      <th>13</th>\n",
       "      <td>NetIncome</td>\n",
       "      <td>29,998,000,000.0</td>\n",
       "      <td>95,171,000,000.0</td>\n",
       "      <td>24,160,000,000.0</td>\n",
       "      <td>94,321,000,000.0</td>\n",
       "    </tr>\n",
       "    <tr>\n",
       "      <th>14</th>\n",
       "      <td>NetIncomeCommonStockholders</td>\n",
       "      <td>29,998,000,000.0</td>\n",
       "      <td>95,171,000,000.0</td>\n",
       "      <td>24,160,000,000.0</td>\n",
       "      <td>94,321,000,000.0</td>\n",
       "    </tr>\n",
       "    <tr>\n",
       "      <th>15</th>\n",
       "      <td>NetIncomeContinuousOperations</td>\n",
       "      <td>29,998,000,000.0</td>\n",
       "      <td>95,171,000,000.0</td>\n",
       "      <td>24,160,000,000.0</td>\n",
       "      <td>94,321,000,000.0</td>\n",
       "    </tr>\n",
       "    <tr>\n",
       "      <th>16</th>\n",
       "      <td>NetIncomeFromContinuingAndDiscontinuedOperation</td>\n",
       "      <td>29,998,000,000.0</td>\n",
       "      <td>95,171,000,000.0</td>\n",
       "      <td>24,160,000,000.0</td>\n",
       "      <td>94,321,000,000.0</td>\n",
       "    </tr>\n",
       "    <tr>\n",
       "      <th>17</th>\n",
       "      <td>NetIncomeFromContinuingOperationNetMinorityInt...</td>\n",
       "      <td>29,998,000,000.0</td>\n",
       "      <td>95,171,000,000.0</td>\n",
       "      <td>24,160,000,000.0</td>\n",
       "      <td>94,321,000,000.0</td>\n",
       "    </tr>\n",
       "    <tr>\n",
       "      <th>18</th>\n",
       "      <td>NetIncomeIncludingNoncontrollingInterests</td>\n",
       "      <td>29,998,000,000.0</td>\n",
       "      <td>95,171,000,000.0</td>\n",
       "      <td>24,160,000,000.0</td>\n",
       "      <td>94,321,000,000.0</td>\n",
       "    </tr>\n",
       "    <tr>\n",
       "      <th>19</th>\n",
       "      <td>NetInterestIncome</td>\n",
       "      <td>-135,000,000.0</td>\n",
       "      <td>-197,000,000.0</td>\n",
       "      <td>-12,000,000.0</td>\n",
       "      <td>-218,000,000.0</td>\n",
       "    </tr>\n",
       "    <tr>\n",
       "      <th>20</th>\n",
       "      <td>NetNonOperatingInterestIncomeExpense</td>\n",
       "      <td>-135,000,000.0</td>\n",
       "      <td>-197,000,000.0</td>\n",
       "      <td>-12,000,000.0</td>\n",
       "      <td>-218,000,000.0</td>\n",
       "    </tr>\n",
       "    <tr>\n",
       "      <th>21</th>\n",
       "      <td>NormalizedEBITDA</td>\n",
       "      <td>38,932,000,000.0</td>\n",
       "      <td>128,048,000,000.0</td>\n",
       "      <td>31,216,000,000.0</td>\n",
       "      <td>126,691,000,000.0</td>\n",
       "    </tr>\n",
       "    <tr>\n",
       "      <th>22</th>\n",
       "      <td>NormalizedIncome</td>\n",
       "      <td>29,998,000,000.0</td>\n",
       "      <td>95,171,000,000.0</td>\n",
       "      <td>24,160,000,000.0</td>\n",
       "      <td>94,321,000,000.0</td>\n",
       "    </tr>\n",
       "    <tr>\n",
       "      <th>23</th>\n",
       "      <td>OperatingExpense</td>\n",
       "      <td>14,316,000,000.0</td>\n",
       "      <td>52,906,000,000.0</td>\n",
       "      <td>13,658,000,000.0</td>\n",
       "      <td>53,984,000,000.0</td>\n",
       "    </tr>\n",
       "    <tr>\n",
       "      <th>24</th>\n",
       "      <td>OperatingIncome</td>\n",
       "      <td>36,016,000,000.0</td>\n",
       "      <td>113,965,000,000.0</td>\n",
       "      <td>28,318,000,000.0</td>\n",
       "      <td>112,304,000,000.0</td>\n",
       "    </tr>\n",
       "    <tr>\n",
       "      <th>25</th>\n",
       "      <td>OperatingRevenue</td>\n",
       "      <td>117,154,000,000.0</td>\n",
       "      <td>387,537,000,000.0</td>\n",
       "      <td>94,836,000,000.0</td>\n",
       "      <td>385,095,000,000.0</td>\n",
       "    </tr>\n",
       "    <tr>\n",
       "      <th>26</th>\n",
       "      <td>OtherIncomeExpense</td>\n",
       "      <td>-393,000,000.0</td>\n",
       "      <td>-283,000,000.0</td>\n",
       "      <td>64,000,000.0</td>\n",
       "      <td>-358,000,000.0</td>\n",
       "    </tr>\n",
       "    <tr>\n",
       "      <th>27</th>\n",
       "      <td>OtherNonOperatingIncomeExpenses</td>\n",
       "      <td>-393,000,000.0</td>\n",
       "      <td>-283,000,000.0</td>\n",
       "      <td>64,000,000.0</td>\n",
       "      <td>-358,000,000.0</td>\n",
       "    </tr>\n",
       "    <tr>\n",
       "      <th>28</th>\n",
       "      <td>PretaxIncome</td>\n",
       "      <td>35,623,000,000.0</td>\n",
       "      <td>113,485,000,000.0</td>\n",
       "      <td>28,382,000,000.0</td>\n",
       "      <td>111,728,000,000.0</td>\n",
       "    </tr>\n",
       "    <tr>\n",
       "      <th>29</th>\n",
       "      <td>ReconciledCostOfRevenue</td>\n",
       "      <td>66,822,000,000.0</td>\n",
       "      <td>220,666,000,000.0</td>\n",
       "      <td>52,860,000,000.0</td>\n",
       "      <td>218,807,000,000.0</td>\n",
       "    </tr>\n",
       "    <tr>\n",
       "      <th>30</th>\n",
       "      <td>ReconciledDepreciation</td>\n",
       "      <td>2,916,000,000.0</td>\n",
       "      <td>11,323,000,000.0</td>\n",
       "      <td>2,898,000,000.0</td>\n",
       "      <td>11,484,000,000.0</td>\n",
       "    </tr>\n",
       "    <tr>\n",
       "      <th>31</th>\n",
       "      <td>ResearchAndDevelopment</td>\n",
       "      <td>7,709,000,000.0</td>\n",
       "      <td>27,654,000,000.0</td>\n",
       "      <td>7,457,000,000.0</td>\n",
       "      <td>28,724,000,000.0</td>\n",
       "    </tr>\n",
       "    <tr>\n",
       "      <th>32</th>\n",
       "      <td>SellingGeneralAndAdministration</td>\n",
       "      <td>6,607,000,000.0</td>\n",
       "      <td>25,252,000,000.0</td>\n",
       "      <td>6,201,000,000.0</td>\n",
       "      <td>25,260,000,000.0</td>\n",
       "    </tr>\n",
       "    <tr>\n",
       "      <th>33</th>\n",
       "      <td>TaxProvision</td>\n",
       "      <td>5,625,000,000.0</td>\n",
       "      <td>18,314,000,000.0</td>\n",
       "      <td>4,222,000,000.0</td>\n",
       "      <td>17,407,000,000.0</td>\n",
       "    </tr>\n",
       "    <tr>\n",
       "      <th>34</th>\n",
       "      <td>TaxRateForCalcs</td>\n",
       "      <td>0.157904</td>\n",
       "      <td>0.161378</td>\n",
       "      <td>0.148756</td>\n",
       "      <td>0.155798</td>\n",
       "    </tr>\n",
       "    <tr>\n",
       "      <th>35</th>\n",
       "      <td>TotalExpenses</td>\n",
       "      <td>81,138,000,000.0</td>\n",
       "      <td>273,572,000,000.0</td>\n",
       "      <td>66,518,000,000.0</td>\n",
       "      <td>272,791,000,000.0</td>\n",
       "    </tr>\n",
       "    <tr>\n",
       "      <th>36</th>\n",
       "      <td>TotalOperatingIncomeAsReported</td>\n",
       "      <td>36,016,000,000.0</td>\n",
       "      <td>113,965,000,000.0</td>\n",
       "      <td>28,318,000,000.0</td>\n",
       "      <td>112,304,000,000.0</td>\n",
       "    </tr>\n",
       "    <tr>\n",
       "      <th>37</th>\n",
       "      <td>TotalRevenue</td>\n",
       "      <td>117,154,000,000.0</td>\n",
       "      <td>387,537,000,000.0</td>\n",
       "      <td>94,836,000,000.0</td>\n",
       "      <td>385,095,000,000.0</td>\n",
       "    </tr>\n",
       "  </tbody>\n",
       "</table>\n",
       "</div>"
      ],
      "text/plain": [
       "                                                      2022-12-31 00:00:00  \\\n",
       "0                                  BasicAverageShares    15,892,723,000.0   \n",
       "1                                            BasicEPS                1.89   \n",
       "2                                       CostOfRevenue    66,822,000,000.0   \n",
       "3                                DilutedAverageShares    15,955,718,000.0   \n",
       "4                                          DilutedEPS                1.88   \n",
       "5                     DilutedNIAvailtoComStockholders    29,998,000,000.0   \n",
       "6                                                EBIT    36,016,000,000.0   \n",
       "7                                              EBITDA                 nan   \n",
       "8                                         GrossProfit    50,332,000,000.0   \n",
       "9                                     InterestExpense     1,003,000,000.0   \n",
       "10                        InterestExpenseNonOperating     1,003,000,000.0   \n",
       "11                                     InterestIncome       868,000,000.0   \n",
       "12                         InterestIncomeNonOperating       868,000,000.0   \n",
       "13                                          NetIncome    29,998,000,000.0   \n",
       "14                        NetIncomeCommonStockholders    29,998,000,000.0   \n",
       "15                      NetIncomeContinuousOperations    29,998,000,000.0   \n",
       "16    NetIncomeFromContinuingAndDiscontinuedOperation    29,998,000,000.0   \n",
       "17  NetIncomeFromContinuingOperationNetMinorityInt...    29,998,000,000.0   \n",
       "18          NetIncomeIncludingNoncontrollingInterests    29,998,000,000.0   \n",
       "19                                  NetInterestIncome      -135,000,000.0   \n",
       "20               NetNonOperatingInterestIncomeExpense      -135,000,000.0   \n",
       "21                                   NormalizedEBITDA    38,932,000,000.0   \n",
       "22                                   NormalizedIncome    29,998,000,000.0   \n",
       "23                                   OperatingExpense    14,316,000,000.0   \n",
       "24                                    OperatingIncome    36,016,000,000.0   \n",
       "25                                   OperatingRevenue   117,154,000,000.0   \n",
       "26                                 OtherIncomeExpense      -393,000,000.0   \n",
       "27                    OtherNonOperatingIncomeExpenses      -393,000,000.0   \n",
       "28                                       PretaxIncome    35,623,000,000.0   \n",
       "29                            ReconciledCostOfRevenue    66,822,000,000.0   \n",
       "30                             ReconciledDepreciation     2,916,000,000.0   \n",
       "31                             ResearchAndDevelopment     7,709,000,000.0   \n",
       "32                    SellingGeneralAndAdministration     6,607,000,000.0   \n",
       "33                                       TaxProvision     5,625,000,000.0   \n",
       "34                                    TaxRateForCalcs            0.157904   \n",
       "35                                      TotalExpenses    81,138,000,000.0   \n",
       "36                     TotalOperatingIncomeAsReported    36,016,000,000.0   \n",
       "37                                       TotalRevenue   117,154,000,000.0   \n",
       "\n",
       "   2022-12-31 00:00:00 2023-03-31 00:00:00 2023-03-31 00:00:00  \n",
       "0                  nan    15,787,154,000.0                 nan  \n",
       "1                  nan                1.53                 nan  \n",
       "2    220,666,000,000.0    52,860,000,000.0   218,807,000,000.0  \n",
       "3                  nan    15,847,050,000.0                 nan  \n",
       "4                  nan                1.52                 nan  \n",
       "5     95,171,000,000.0    24,160,000,000.0    94,321,000,000.0  \n",
       "6    116,725,000,000.0    28,318,000,000.0   115,207,000,000.0  \n",
       "7    128,048,000,000.0                 nan   126,691,000,000.0  \n",
       "8    166,871,000,000.0    41,976,000,000.0   166,288,000,000.0  \n",
       "9      3,240,000,000.0       930,000,000.0     3,479,000,000.0  \n",
       "10     3,240,000,000.0       930,000,000.0     3,479,000,000.0  \n",
       "11     3,043,000,000.0       918,000,000.0     3,261,000,000.0  \n",
       "12     3,043,000,000.0       918,000,000.0     3,261,000,000.0  \n",
       "13    95,171,000,000.0    24,160,000,000.0    94,321,000,000.0  \n",
       "14    95,171,000,000.0    24,160,000,000.0    94,321,000,000.0  \n",
       "15    95,171,000,000.0    24,160,000,000.0    94,321,000,000.0  \n",
       "16    95,171,000,000.0    24,160,000,000.0    94,321,000,000.0  \n",
       "17    95,171,000,000.0    24,160,000,000.0    94,321,000,000.0  \n",
       "18    95,171,000,000.0    24,160,000,000.0    94,321,000,000.0  \n",
       "19      -197,000,000.0       -12,000,000.0      -218,000,000.0  \n",
       "20      -197,000,000.0       -12,000,000.0      -218,000,000.0  \n",
       "21   128,048,000,000.0    31,216,000,000.0   126,691,000,000.0  \n",
       "22    95,171,000,000.0    24,160,000,000.0    94,321,000,000.0  \n",
       "23    52,906,000,000.0    13,658,000,000.0    53,984,000,000.0  \n",
       "24   113,965,000,000.0    28,318,000,000.0   112,304,000,000.0  \n",
       "25   387,537,000,000.0    94,836,000,000.0   385,095,000,000.0  \n",
       "26      -283,000,000.0        64,000,000.0      -358,000,000.0  \n",
       "27      -283,000,000.0        64,000,000.0      -358,000,000.0  \n",
       "28   113,485,000,000.0    28,382,000,000.0   111,728,000,000.0  \n",
       "29   220,666,000,000.0    52,860,000,000.0   218,807,000,000.0  \n",
       "30    11,323,000,000.0     2,898,000,000.0    11,484,000,000.0  \n",
       "31    27,654,000,000.0     7,457,000,000.0    28,724,000,000.0  \n",
       "32    25,252,000,000.0     6,201,000,000.0    25,260,000,000.0  \n",
       "33    18,314,000,000.0     4,222,000,000.0    17,407,000,000.0  \n",
       "34            0.161378            0.148756            0.155798  \n",
       "35   273,572,000,000.0    66,518,000,000.0   272,791,000,000.0  \n",
       "36   113,965,000,000.0    28,318,000,000.0   112,304,000,000.0  \n",
       "37   387,537,000,000.0    94,836,000,000.0   385,095,000,000.0  "
      ]
     },
     "metadata": {},
     "output_type": "display_data"
    }
   ],
   "source": [
    "import yahooquery as yq\n",
    "from yahooquery import Ticker\n",
    "import numpy as np\n",
    "import pandas as np\n",
    "\n",
    "ticker = Ticker(\"AAPL\")\n",
    "table_data = ticker.income_statement(\"q\")\n",
    "table_data.reset_index(inplace=True)\n",
    "table_data = table_data.transpose()\n",
    "table_data.reset_index(inplace=True)\n",
    "table_data.drop(0,0, inplace=True)\n",
    "\n",
    "table_data.columns = table_data.iloc[0] \n",
    "table_data = table_data[1:]\n",
    "\n",
    "table_data.index = table_data.iloc[:, 0]\n",
    "table_data = table_data.iloc[:, 1:]\n",
    "\n",
    "rows_to_keep = []\n",
    "\n",
    "for i in range(len(table_data)):\n",
    "    if not all(str(cell) == \"\" or cell == 0 for cell in table_data.iloc[i]):\n",
    "        rows_to_keep.append(i)\n",
    "\n",
    "new_table_data = table_data.iloc[rows_to_keep]\n",
    "new_table_data = new_table_data.iloc[:, -4:]\n",
    "#new_table_data.rename(index = {new_table_data.index[0]: \"Period\"}, inplace=True)\n",
    "new_table_data.index.name = \"\"\n",
    "new_table_data.columns.name = \"Date\"\n",
    "\n",
    "new_table_data.drop(new_table_data.index[1], 0, inplace=True)\n",
    "new_table_data.drop(new_table_data.index[0], 0, inplace=True)\n",
    "\n",
    "length = len(new_table_data.index)\n",
    "width = len(new_table_data.columns)\n",
    "\n",
    "for l in range(length):\n",
    "    for w in range(width):\n",
    "        if type(new_table_data.iloc[l,w]) == float:\n",
    "            new_table_data.iloc[l,w] = format(new_table_data.iloc[l,w], \",\")\n",
    "\n",
    "new_columns = []\n",
    "for x in range(len(new_table_data.columns)):\n",
    "        new_label = str(new_table_data.columns[x])\n",
    "        new_columns.append(new_label)\n",
    "\n",
    "new_table_data.columns = new_columns\n",
    "new_table_data.reset_index(inplace=True)\n",
    "\n",
    "for x in range(len(table_data.index)):\n",
    "    for y in table_data.iloc[x, 0]:\n",
    "        if y.isupper():\n",
    "            y = f\" {y}\"\n",
    "\n",
    "\n",
    "display(new_table_data)"
   ]
  },
  {
   "cell_type": "code",
   "execution_count": 25,
   "metadata": {},
   "outputs": [
    {
     "ename": "TypeError",
     "evalue": "'int' object is not iterable",
     "output_type": "error",
     "traceback": [
      "\u001b[1;31m---------------------------------------------------------------------------\u001b[0m",
      "\u001b[1;31mTypeError\u001b[0m                                 Traceback (most recent call last)",
      "\u001b[1;32m~\\AppData\\Local\\Temp/ipykernel_3120/3436248076.py\u001b[0m in \u001b[0;36m<module>\u001b[1;34m\u001b[0m\n\u001b[1;32m----> 1\u001b[1;33m \u001b[1;32mfor\u001b[0m \u001b[0mx\u001b[0m \u001b[1;32min\u001b[0m \u001b[1;36m45\u001b[0m\u001b[1;33m:\u001b[0m\u001b[1;33m\u001b[0m\u001b[1;33m\u001b[0m\u001b[0m\n\u001b[0m\u001b[0;32m      2\u001b[0m     \u001b[0mprint\u001b[0m\u001b[1;33m(\u001b[0m\u001b[0mx\u001b[0m\u001b[1;33m)\u001b[0m\u001b[1;33m\u001b[0m\u001b[1;33m\u001b[0m\u001b[0m\n",
      "\u001b[1;31mTypeError\u001b[0m: 'int' object is not iterable"
     ]
    }
   ],
   "source": [
    "for x in 45:\n",
    "    print(x)"
   ]
  },
  {
   "cell_type": "code",
   "execution_count": 46,
   "metadata": {},
   "outputs": [
    {
     "name": "stdout",
     "output_type": "stream",
     "text": [
      "tara\n"
     ]
    }
   ],
   "source": [
    "stara = \"stara\"\n",
    "\n",
    "print(stara[-4:])"
   ]
  },
  {
   "cell_type": "code",
   "execution_count": 5,
   "metadata": {},
   "outputs": [
    {
     "name": "stdout",
     "output_type": "stream",
     "text": [
      "185,678,000\n"
     ]
    }
   ],
   "source": [
    "x = 185678000\n",
    "\n",
    "formatted = format(x, \",\")\n",
    "\n",
    "print(formatted)"
   ]
  },
  {
   "cell_type": "code",
   "execution_count": 20,
   "metadata": {},
   "outputs": [
    {
     "name": "stdout",
     "output_type": "stream",
     "text": [
      " Reconciled Depreciation\n"
     ]
    }
   ],
   "source": [
    "x = \"ReconciledDepreciation\"\n",
    "z = 0\n",
    "new_x = \"\"\n",
    "for y in x:\n",
    "    z = z+1\n",
    "    if y.isupper() and z!=1:\n",
    "        y = f\" {y}\"\n",
    "    new_x = new_x + y\n",
    "\n",
    "print(new_x)"
   ]
  },
  {
   "cell_type": "code",
   "execution_count": 3,
   "metadata": {},
   "outputs": [
    {
     "name": "stdout",
     "output_type": "stream",
     "text": [
      "RecoEBITDAciation\n"
     ]
    }
   ],
   "source": [
    "x = \"ReconciledDepreciation\"\n",
    "new_x = \"\"\n",
    "for y in range(len(x)):\n",
    "    if x[y].isupper() and x[y-1].isupper() ==False and x[y+1].isupper()==False and y != 0:\n",
    "        z = f\" {x[y]}\"\n",
    "        new_x = new_x + z\n",
    "    else:\n",
    "        new_x = new_x + x[y]\n",
    "\n",
    "print(new_x)"
   ]
  },
  {
   "cell_type": "code",
   "execution_count": 4,
   "metadata": {},
   "outputs": [
    {
     "name": "stdout",
     "output_type": "stream",
     "text": [
      "[*********************100%***********************]  1 of 1 completed\n"
     ]
    },
    {
     "name": "stderr",
     "output_type": "stream",
     "text": [
      "c:\\Users\\Tomasz\\anaconda3\\lib\\site-packages\\pandas\\core\\indexing.py:1732: SettingWithCopyWarning: \n",
      "A value is trying to be set on a copy of a slice from a DataFrame\n",
      "\n",
      "See the caveats in the documentation: https://pandas.pydata.org/pandas-docs/stable/user_guide/indexing.html#returning-a-view-versus-a-copy\n",
      "  self._setitem_single_block(indexer, value, name)\n"
     ]
    },
    {
     "data": {
      "text/html": [
       "<div>\n",
       "<style scoped>\n",
       "    .dataframe tbody tr th:only-of-type {\n",
       "        vertical-align: middle;\n",
       "    }\n",
       "\n",
       "    .dataframe tbody tr th {\n",
       "        vertical-align: top;\n",
       "    }\n",
       "\n",
       "    .dataframe thead th {\n",
       "        text-align: right;\n",
       "    }\n",
       "</style>\n",
       "<table border=\"1\" class=\"dataframe\">\n",
       "  <thead>\n",
       "    <tr style=\"text-align: right;\">\n",
       "      <th></th>\n",
       "      <th>Counted</th>\n",
       "    </tr>\n",
       "    <tr>\n",
       "      <th>DR rounded</th>\n",
       "      <th></th>\n",
       "    </tr>\n",
       "  </thead>\n",
       "  <tbody>\n",
       "    <tr>\n",
       "      <th>-13.0</th>\n",
       "      <td>1</td>\n",
       "    </tr>\n",
       "    <tr>\n",
       "      <th>-10.0</th>\n",
       "      <td>2</td>\n",
       "    </tr>\n",
       "    <tr>\n",
       "      <th>-8.0</th>\n",
       "      <td>2</td>\n",
       "    </tr>\n",
       "    <tr>\n",
       "      <th>-6.5</th>\n",
       "      <td>4</td>\n",
       "    </tr>\n",
       "    <tr>\n",
       "      <th>-6.0</th>\n",
       "      <td>2</td>\n",
       "    </tr>\n",
       "    <tr>\n",
       "      <th>-5.5</th>\n",
       "      <td>4</td>\n",
       "    </tr>\n",
       "    <tr>\n",
       "      <th>-5.0</th>\n",
       "      <td>7</td>\n",
       "    </tr>\n",
       "    <tr>\n",
       "      <th>-4.5</th>\n",
       "      <td>7</td>\n",
       "    </tr>\n",
       "    <tr>\n",
       "      <th>-4.0</th>\n",
       "      <td>12</td>\n",
       "    </tr>\n",
       "    <tr>\n",
       "      <th>-3.5</th>\n",
       "      <td>20</td>\n",
       "    </tr>\n",
       "    <tr>\n",
       "      <th>-3.0</th>\n",
       "      <td>26</td>\n",
       "    </tr>\n",
       "    <tr>\n",
       "      <th>-2.5</th>\n",
       "      <td>37</td>\n",
       "    </tr>\n",
       "    <tr>\n",
       "      <th>-2.0</th>\n",
       "      <td>56</td>\n",
       "    </tr>\n",
       "    <tr>\n",
       "      <th>-1.5</th>\n",
       "      <td>61</td>\n",
       "    </tr>\n",
       "    <tr>\n",
       "      <th>-1.0</th>\n",
       "      <td>110</td>\n",
       "    </tr>\n",
       "    <tr>\n",
       "      <th>-0.5</th>\n",
       "      <td>145</td>\n",
       "    </tr>\n",
       "    <tr>\n",
       "      <th>-0.0</th>\n",
       "      <td>178</td>\n",
       "    </tr>\n",
       "    <tr>\n",
       "      <th>0.5</th>\n",
       "      <td>144</td>\n",
       "    </tr>\n",
       "    <tr>\n",
       "      <th>1.0</th>\n",
       "      <td>118</td>\n",
       "    </tr>\n",
       "    <tr>\n",
       "      <th>1.5</th>\n",
       "      <td>104</td>\n",
       "    </tr>\n",
       "    <tr>\n",
       "      <th>2.0</th>\n",
       "      <td>69</td>\n",
       "    </tr>\n",
       "    <tr>\n",
       "      <th>2.5</th>\n",
       "      <td>52</td>\n",
       "    </tr>\n",
       "    <tr>\n",
       "      <th>3.0</th>\n",
       "      <td>32</td>\n",
       "    </tr>\n",
       "    <tr>\n",
       "      <th>3.5</th>\n",
       "      <td>27</td>\n",
       "    </tr>\n",
       "    <tr>\n",
       "      <th>4.0</th>\n",
       "      <td>12</td>\n",
       "    </tr>\n",
       "    <tr>\n",
       "      <th>4.5</th>\n",
       "      <td>5</td>\n",
       "    </tr>\n",
       "    <tr>\n",
       "      <th>5.0</th>\n",
       "      <td>5</td>\n",
       "    </tr>\n",
       "    <tr>\n",
       "      <th>5.5</th>\n",
       "      <td>2</td>\n",
       "    </tr>\n",
       "    <tr>\n",
       "      <th>6.0</th>\n",
       "      <td>1</td>\n",
       "    </tr>\n",
       "    <tr>\n",
       "      <th>6.5</th>\n",
       "      <td>1</td>\n",
       "    </tr>\n",
       "    <tr>\n",
       "      <th>7.0</th>\n",
       "      <td>4</td>\n",
       "    </tr>\n",
       "    <tr>\n",
       "      <th>7.5</th>\n",
       "      <td>1</td>\n",
       "    </tr>\n",
       "    <tr>\n",
       "      <th>8.5</th>\n",
       "      <td>1</td>\n",
       "    </tr>\n",
       "    <tr>\n",
       "      <th>9.0</th>\n",
       "      <td>1</td>\n",
       "    </tr>\n",
       "    <tr>\n",
       "      <th>9.5</th>\n",
       "      <td>1</td>\n",
       "    </tr>\n",
       "    <tr>\n",
       "      <th>10.0</th>\n",
       "      <td>1</td>\n",
       "    </tr>\n",
       "    <tr>\n",
       "      <th>10.5</th>\n",
       "      <td>1</td>\n",
       "    </tr>\n",
       "    <tr>\n",
       "      <th>12.0</th>\n",
       "      <td>1</td>\n",
       "    </tr>\n",
       "    <tr>\n",
       "      <th>NaN</th>\n",
       "      <td>0</td>\n",
       "    </tr>\n",
       "  </tbody>\n",
       "</table>\n",
       "</div>"
      ],
      "text/plain": [
       "           Counted\n",
       "DR rounded        \n",
       "-13.0            1\n",
       "-10.0            2\n",
       "-8.0             2\n",
       "-6.5             4\n",
       "-6.0             2\n",
       "-5.5             4\n",
       "-5.0             7\n",
       "-4.5             7\n",
       "-4.0            12\n",
       "-3.5            20\n",
       "-3.0            26\n",
       "-2.5            37\n",
       "-2.0            56\n",
       "-1.5            61\n",
       "-1.0           110\n",
       "-0.5           145\n",
       "-0.0           178\n",
       " 0.5           144\n",
       " 1.0           118\n",
       " 1.5           104\n",
       " 2.0            69\n",
       " 2.5            52\n",
       " 3.0            32\n",
       " 3.5            27\n",
       " 4.0            12\n",
       " 4.5             5\n",
       " 5.0             5\n",
       " 5.5             2\n",
       " 6.0             1\n",
       " 6.5             1\n",
       " 7.0             4\n",
       " 7.5             1\n",
       " 8.5             1\n",
       " 9.0             1\n",
       " 9.5             1\n",
       " 10.0            1\n",
       " 10.5            1\n",
       " 12.0            1\n",
       " NaN             0"
      ]
     },
     "metadata": {},
     "output_type": "display_data"
    },
    {
     "data": {
      "image/png": "[encoded data removed]",
      "text/plain": [
       "<Figure size 432x288 with 1 Axes>"
      ]
     },
     "metadata": {
      "needs_background": "light"
     },
     "output_type": "display_data"
    }
   ],
   "source": [
    "import plotly.express as px\n",
    "import matplotlib.pyplot as plt\n",
    "import yfinance as yf\n",
    "data = yf.download(\n",
    "            tickers=\"AAPL\",\n",
    "            interval=\"1d\",\n",
    "            period=\"5y\",\n",
    "            prepost=False,\n",
    "            threads=True,\n",
    "        )\n",
    "\n",
    "data['Daily return'] = (data['Close'] - data['Close'].shift(1))/data['Close'].shift(1) * 100\n",
    "data['DR rounded'] = round(data['Daily return'] *2)/2\n",
    "data['Counted'] = None\n",
    "for i in range(len(data.index)):\n",
    "        data['Counted'].iloc[i] = data[data[\"DR rounded\"] == data['DR rounded'].iloc[i]]['DR rounded'].count()\n",
    "data = data.drop_duplicates(subset=[\"DR rounded\"])\n",
    "new_data = data.iloc[:,-2:]\n",
    "new_data = new_data.set_index('DR rounded')\n",
    "new_data.sort_index(inplace=True)\n",
    "\n",
    "fig,ax = plt.subplots()\n",
    "ax.bar(new_data.index, new_data[\"Counted\"])\n",
    "\n",
    "# fig = px.bar(x=new_data.index, y=new_data[\"Counted\"])\n",
    "# fig.show()\n",
    "\n",
    "display(new_data)"
   ]
  },
  {
   "cell_type": "code",
   "execution_count": 1,
   "metadata": {},
   "outputs": [],
   "source": [
    "import plotly.express as px\n",
    "import matplotlib.pyplot as plt\n",
    "import yfinance as yf\n",
    "import numpy as np\n",
    "\n",
    "def create_linear_regression_chart(ticker):\n",
    "    \"\"\"Calculates and creates linear regression chart with trendline of provided stock\"\"\"\n",
    "\n",
    "    data= yf.download(\n",
    "                tickers=f\"{ticker} SPY\",\n",
    "                interval=\"15m\",\n",
    "                period=\"1d\",\n",
    " )\n",
    "\n",
    "    data = data[\"Close\"]\n",
    "\n",
    "    returns = np.log(data).diff()\n",
    "    returns = returns.dropna()\n",
    "    correlation = returns.corr()\n",
    "    reg = np.polyfit(returns[\"SPY\"], returns[ticker], deg=1)\n",
    "    trend = np.polyval(reg, returns[ticker])\n",
    "    output = plt.scatter(x=returns[\"SPY\"], y=returns[ticker])\n",
    "    # plt.plot(returns[ticker], trend, 'r')\n",
    "\n",
    "    return output\n"
   ]
  },
  {
   "cell_type": "code",
   "execution_count": 30,
   "metadata": {},
   "outputs": [
    {
     "name": "stdout",
     "output_type": "stream",
     "text": [
      "[*********************100%***********************]  1 of 1 completed\n"
     ]
    },
    {
     "data": {
      "text/plain": [
       "<AxesSubplot:xlabel='Time', ylabel='Close'>"
      ]
     },
     "execution_count": 30,
     "metadata": {},
     "output_type": "execute_result"
    },
    {
     "data": {
      "image/png": "[encoded data removed]",
      "text/plain": [
       "<Figure size 432x288 with 1 Axes>"
      ]
     },
     "metadata": {},
     "output_type": "display_data"
    }
   ],
   "source": [
    "import plotly.express as px\n",
    "import matplotlib.pyplot as plt\n",
    "import yfinance as yf\n",
    "import numpy as np\n",
    "import pandas as pd\n",
    "import seaborn as sb\n",
    "sb.set()\n",
    "\n",
    "data= pd.DataFrame(yf.download(\n",
    "            tickers=\"AAPL\",\n",
    "            interval=\"1d\",\n",
    "            period=\"1y\",\n",
    "\n",
    "        ))\n",
    "time = np.arange(1, len(data)+1)\n",
    "data[\"Time\"] = time\n",
    "data = data[[\"Time\", \"Close\"]]\n",
    "data = round(data,2)\n",
    "reg = np.polyfit(data[\"Time\"], data[\"Close\"], deg=1)\n",
    "trend = np.polyval(reg, data[\"Time\"])\n",
    "std = data[\"Close\"].std()\n",
    "sb.regplot(x=\"Time\", y=\"Close\", fit_reg=True, data=data[:65])"
   ]
  },
  {
   "cell_type": "code",
   "execution_count": 2,
   "metadata": {},
   "outputs": [
    {
     "name": "stdout",
     "output_type": "stream",
     "text": [
      "[*********************100%***********************]  2 of 2 completed\n"
     ]
    },
    {
     "data": {
      "image/png": "[encoded data removed]",
      "text/plain": [
       "<Figure size 432x288 with 1 Axes>"
      ]
     },
     "metadata": {
      "needs_background": "light"
     },
     "output_type": "display_data"
    }
   ],
   "source": [
    "x = create_linear_regression_chart(\"NVDA\")"
   ]
  },
  {
   "cell_type": "code",
   "execution_count": 10,
   "metadata": {},
   "outputs": [
    {
     "name": "stdout",
     "output_type": "stream",
     "text": [
      "[*********************100%***********************]  1 of 1 completed\n",
      "[250, 1.4700500711871929, 126]\n"
     ]
    }
   ],
   "source": [
    "import plotly.express as px\n",
    "import matplotlib.pyplot as plt\n",
    "import yfinance as yf\n",
    "import numpy as np\n",
    "import pandas as pd\n",
    "import seaborn as sb\n",
    "sb.set()\n",
    "\n",
    "data= pd.DataFrame(yf.download(\n",
    "            tickers=\"AAPL\",\n",
    "            interval=\"1d\",\n",
    "            period=\"1y\",\n",
    "\n",
    "        ))\n",
    "data = data[[\"Close\"]]\n",
    "data[\"Percentage returns\"] = data[\"Close\"].pct_change() * 100\n",
    "data.dropna(inplace=True)\n",
    "data = data[[\"Percentage returns\"]]\n",
    "\n",
    "number_of_candles = len(data)\n",
    "avg_candle = data[\"Percentage returns\"].mean()\n",
    "max_candle = data[\"Percentage returns\"].max()\n",
    "min_candle = data[\"Percentage returns\"].min()\n",
    "\n",
    "number_of_up_candles = len(data[data[\"Percentage returns\"] > 0])\n",
    "avg_up_candle = (data[\"Percentage returns\"][data[\"Percentage returns\"] > 0]).mean()\n",
    "max_up_candle = (data[data[\"Percentage returns\"] > 0]).max()\n",
    "min_up_candle = (data[data[\"Percentage returns\"] > 0]).min()\n",
    "\n",
    "number_of_down_candles = len(data[data[\"Percentage returns\"] < 0])\n",
    "avg_down_candle = (data[\"Percentage returns\"][data[\"Percentage returns\"] < 0]).mean()\n",
    "max_down_candle = (data[data[\"Percentage returns\"] < 0]).max()\n",
    "min_down_candle = (data[data[\"Percentage returns\"] < 0]).min()\n",
    "\n",
    "\n",
    "\n",
    "print([number_of_candles, avg_up_candle, number_of_up_candles])"
   ]
  },
  {
   "cell_type": "code",
   "execution_count": null,
   "metadata": {},
   "outputs": [],
   "source": []
  }
 ],
 "metadata": {
  "kernelspec": {
   "display_name": "base",
   "language": "python",
   "name": "python3"
  },
  "language_info": {
   "codemirror_mode": {
    "name": "ipython",
    "version": 3
   },
   "file_extension": ".py",
   "mimetype": "text/x-python",
   "name": "python",
   "nbconvert_exporter": "python",
   "pygments_lexer": "ipython3",
   "version": "3.9.7"
  },
  "orig_nbformat": 4
 },
 "nbformat": 4,
 "nbformat_minor": 2
}
