{
 "cells": [
  {
   "cell_type": "code",
   "execution_count": 5,
   "metadata": {},
   "outputs": [
    {
     "name": "stdout",
     "output_type": "stream",
     "text": [
      "Dash is running on http://127.0.0.1:8050/\n",
      "\n",
      " * Serving Flask app \"__main__\" (lazy loading)\n",
      " * Environment: production\n",
      "\u001b[31m   WARNING: This is a development server. Do not use it in a production deployment.\u001b[0m\n",
      "\u001b[2m   Use a production WSGI server instead.\u001b[0m\n",
      " * Debug mode: on\n"
     ]
    },
    {
     "ename": "SystemExit",
     "evalue": "1",
     "output_type": "error",
     "traceback": [
      "An exception has occurred, use %tb to see the full traceback.\n",
      "\u001b[1;31mSystemExit\u001b[0m\u001b[1;31m:\u001b[0m 1\n"
     ]
    }
   ],
   "source": [
    "import dash\n",
    "from dash import html\n",
    "from dash import dcc\n",
    "\n",
    "app = dash.Dash()\n",
    "\n",
    "app.layout = html.Div(\n",
    "    children=[\n",
    "        html.H1(\"Hello Dash!\"),\n",
    "        html.P(\"This is a simple Dash application.\"),\n",
    "        dcc.Graph(\n",
    "            id=\"example-graph\",\n",
    "            figure={\n",
    "                \"data\": [\n",
    "                    {\"x\": [1, 2, 3], \"y\": [4, 1, 2], \"type\": \"bar\", \"name\": \"Series 1\"},\n",
    "                    {\"x\": [1, 2, 3], \"y\": [2, 4, 5], \"type\": \"bar\", \"name\": \"Series 2\"},\n",
    "                ],\n",
    "                \"layout\": {\"title\": \"Simple Bar Chart\"},\n",
    "            },\n",
    "        ),\n",
    "    ]\n",
    ")\n",
    "\n",
    "if __name__ == \"__main__\":\n",
    "    app.run_server(debug=True)\n"
   ]
  },
  {
   "cell_type": "code",
   "execution_count": 6,
   "metadata": {},
   "outputs": [
    {
     "ename": "SystemExit",
     "evalue": "1",
     "output_type": "error",
     "traceback": [
      "\u001b[1;31m---------------------------------------------------------------------------\u001b[0m",
      "\u001b[1;31mSystemExit\u001b[0m                                Traceback (most recent call last)",
      "\u001b[1;32m~\\AppData\\Local\\Temp/ipykernel_25652/3767792385.py\u001b[0m in \u001b[0;36m<module>\u001b[1;34m\u001b[0m\n\u001b[0;32m     23\u001b[0m \u001b[1;33m\u001b[0m\u001b[0m\n\u001b[0;32m     24\u001b[0m \u001b[1;32mif\u001b[0m \u001b[0m__name__\u001b[0m \u001b[1;33m==\u001b[0m \u001b[1;34m\"__main__\"\u001b[0m\u001b[1;33m:\u001b[0m\u001b[1;33m\u001b[0m\u001b[1;33m\u001b[0m\u001b[0m\n\u001b[1;32m---> 25\u001b[1;33m     \u001b[0mapp\u001b[0m\u001b[1;33m.\u001b[0m\u001b[0mrun_server\u001b[0m\u001b[1;33m(\u001b[0m\u001b[0mdebug\u001b[0m\u001b[1;33m=\u001b[0m\u001b[1;32mTrue\u001b[0m\u001b[1;33m)\u001b[0m\u001b[1;33m\u001b[0m\u001b[1;33m\u001b[0m\u001b[0m\n\u001b[0m",
      "\u001b[1;32mc:\\Users\\Tomasz\\anaconda3\\lib\\site-packages\\dash\\dash.py\u001b[0m in \u001b[0;36mrun_server\u001b[1;34m(self, *args, **kwargs)\u001b[0m\n\u001b[0;32m   2127\u001b[0m         \u001b[0mSee\u001b[0m\u001b[0;31m \u001b[0m\u001b[0;31m`\u001b[0m\u001b[0mapp\u001b[0m\u001b[1;33m.\u001b[0m\u001b[0mrun\u001b[0m\u001b[0;31m`\u001b[0m \u001b[1;32mfor\u001b[0m \u001b[0musage\u001b[0m \u001b[0minformation\u001b[0m\u001b[1;33m.\u001b[0m\u001b[1;33m\u001b[0m\u001b[1;33m\u001b[0m\u001b[0m\n\u001b[0;32m   2128\u001b[0m         \"\"\"\n\u001b[1;32m-> 2129\u001b[1;33m         \u001b[0mself\u001b[0m\u001b[1;33m.\u001b[0m\u001b[0mrun\u001b[0m\u001b[1;33m(\u001b[0m\u001b[1;33m*\u001b[0m\u001b[0margs\u001b[0m\u001b[1;33m,\u001b[0m \u001b[1;33m**\u001b[0m\u001b[0mkwargs\u001b[0m\u001b[1;33m)\u001b[0m\u001b[1;33m\u001b[0m\u001b[1;33m\u001b[0m\u001b[0m\n\u001b[0m",
      "\u001b[1;32mc:\\Users\\Tomasz\\anaconda3\\lib\\site-packages\\dash\\dash.py\u001b[0m in \u001b[0;36mrun\u001b[1;34m(self, host, port, proxy, debug, dev_tools_ui, dev_tools_props_check, dev_tools_serve_dev_bundles, dev_tools_hot_reload, dev_tools_hot_reload_interval, dev_tools_hot_reload_watch_interval, dev_tools_hot_reload_max_retry, dev_tools_silence_routes_logging, dev_tools_prune_errors, **flask_run_options)\u001b[0m\n\u001b[0;32m   1987\u001b[0m                     \u001b[0mextra_files\u001b[0m\u001b[1;33m.\u001b[0m\u001b[0mappend\u001b[0m\u001b[1;33m(\u001b[0m\u001b[0mpath\u001b[0m\u001b[1;33m)\u001b[0m\u001b[1;33m\u001b[0m\u001b[1;33m\u001b[0m\u001b[0m\n\u001b[0;32m   1988\u001b[0m \u001b[1;33m\u001b[0m\u001b[0m\n\u001b[1;32m-> 1989\u001b[1;33m         \u001b[0mself\u001b[0m\u001b[1;33m.\u001b[0m\u001b[0mserver\u001b[0m\u001b[1;33m.\u001b[0m\u001b[0mrun\u001b[0m\u001b[1;33m(\u001b[0m\u001b[0mhost\u001b[0m\u001b[1;33m=\u001b[0m\u001b[0mhost\u001b[0m\u001b[1;33m,\u001b[0m \u001b[0mport\u001b[0m\u001b[1;33m=\u001b[0m\u001b[0mport\u001b[0m\u001b[1;33m,\u001b[0m \u001b[0mdebug\u001b[0m\u001b[1;33m=\u001b[0m\u001b[0mdebug\u001b[0m\u001b[1;33m,\u001b[0m \u001b[1;33m**\u001b[0m\u001b[0mflask_run_options\u001b[0m\u001b[1;33m)\u001b[0m\u001b[1;33m\u001b[0m\u001b[1;33m\u001b[0m\u001b[0m\n\u001b[0m\u001b[0;32m   1990\u001b[0m \u001b[1;33m\u001b[0m\u001b[0m\n\u001b[0;32m   1991\u001b[0m     \u001b[1;32mdef\u001b[0m \u001b[0m_import_layouts_from_pages\u001b[0m\u001b[1;33m(\u001b[0m\u001b[0mself\u001b[0m\u001b[1;33m)\u001b[0m\u001b[1;33m:\u001b[0m\u001b[1;33m\u001b[0m\u001b[1;33m\u001b[0m\u001b[0m\n",
      "\u001b[1;32mc:\\Users\\Tomasz\\anaconda3\\lib\\site-packages\\flask\\app.py\u001b[0m in \u001b[0;36mrun\u001b[1;34m(self, host, port, debug, load_dotenv, **options)\u001b[0m\n\u001b[0;32m    988\u001b[0m \u001b[1;33m\u001b[0m\u001b[0m\n\u001b[0;32m    989\u001b[0m         \u001b[1;32mtry\u001b[0m\u001b[1;33m:\u001b[0m\u001b[1;33m\u001b[0m\u001b[1;33m\u001b[0m\u001b[0m\n\u001b[1;32m--> 990\u001b[1;33m             \u001b[0mrun_simple\u001b[0m\u001b[1;33m(\u001b[0m\u001b[0mhost\u001b[0m\u001b[1;33m,\u001b[0m \u001b[0mport\u001b[0m\u001b[1;33m,\u001b[0m \u001b[0mself\u001b[0m\u001b[1;33m,\u001b[0m \u001b[1;33m**\u001b[0m\u001b[0moptions\u001b[0m\u001b[1;33m)\u001b[0m\u001b[1;33m\u001b[0m\u001b[1;33m\u001b[0m\u001b[0m\n\u001b[0m\u001b[0;32m    991\u001b[0m         \u001b[1;32mfinally\u001b[0m\u001b[1;33m:\u001b[0m\u001b[1;33m\u001b[0m\u001b[1;33m\u001b[0m\u001b[0m\n\u001b[0;32m    992\u001b[0m             \u001b[1;31m# reset the first request information if the development server\u001b[0m\u001b[1;33m\u001b[0m\u001b[1;33m\u001b[0m\u001b[0m\n",
      "\u001b[1;32mc:\\Users\\Tomasz\\anaconda3\\lib\\site-packages\\werkzeug\\serving.py\u001b[0m in \u001b[0;36mrun_simple\u001b[1;34m(hostname, port, application, use_reloader, use_debugger, use_evalex, extra_files, exclude_patterns, reloader_interval, reloader_type, threaded, processes, request_handler, static_files, passthrough_errors, ssl_context)\u001b[0m\n\u001b[0;32m   1000\u001b[0m         \u001b[1;32mfrom\u001b[0m \u001b[1;33m.\u001b[0m\u001b[0m_reloader\u001b[0m \u001b[1;32mimport\u001b[0m \u001b[0mrun_with_reloader\u001b[0m \u001b[1;32mas\u001b[0m \u001b[0m_rwr\u001b[0m\u001b[1;33m\u001b[0m\u001b[1;33m\u001b[0m\u001b[0m\n\u001b[0;32m   1001\u001b[0m \u001b[1;33m\u001b[0m\u001b[0m\n\u001b[1;32m-> 1002\u001b[1;33m         _rwr(\n\u001b[0m\u001b[0;32m   1003\u001b[0m             \u001b[0minner\u001b[0m\u001b[1;33m,\u001b[0m\u001b[1;33m\u001b[0m\u001b[1;33m\u001b[0m\u001b[0m\n\u001b[0;32m   1004\u001b[0m             \u001b[0mextra_files\u001b[0m\u001b[1;33m=\u001b[0m\u001b[0mextra_files\u001b[0m\u001b[1;33m,\u001b[0m\u001b[1;33m\u001b[0m\u001b[1;33m\u001b[0m\u001b[0m\n",
      "\u001b[1;32mc:\\Users\\Tomasz\\anaconda3\\lib\\site-packages\\werkzeug\\_reloader.py\u001b[0m in \u001b[0;36mrun_with_reloader\u001b[1;34m(main_func, extra_files, exclude_patterns, interval, reloader_type)\u001b[0m\n\u001b[0;32m    426\u001b[0m                 \u001b[0mreloader\u001b[0m\u001b[1;33m.\u001b[0m\u001b[0mrun\u001b[0m\u001b[1;33m(\u001b[0m\u001b[1;33m)\u001b[0m\u001b[1;33m\u001b[0m\u001b[1;33m\u001b[0m\u001b[0m\n\u001b[0;32m    427\u001b[0m         \u001b[1;32melse\u001b[0m\u001b[1;33m:\u001b[0m\u001b[1;33m\u001b[0m\u001b[1;33m\u001b[0m\u001b[0m\n\u001b[1;32m--> 428\u001b[1;33m             \u001b[0msys\u001b[0m\u001b[1;33m.\u001b[0m\u001b[0mexit\u001b[0m\u001b[1;33m(\u001b[0m\u001b[0mreloader\u001b[0m\u001b[1;33m.\u001b[0m\u001b[0mrestart_with_reloader\u001b[0m\u001b[1;33m(\u001b[0m\u001b[1;33m)\u001b[0m\u001b[1;33m)\u001b[0m\u001b[1;33m\u001b[0m\u001b[1;33m\u001b[0m\u001b[0m\n\u001b[0m\u001b[0;32m    429\u001b[0m     \u001b[1;32mexcept\u001b[0m \u001b[0mKeyboardInterrupt\u001b[0m\u001b[1;33m:\u001b[0m\u001b[1;33m\u001b[0m\u001b[1;33m\u001b[0m\u001b[0m\n\u001b[0;32m    430\u001b[0m         \u001b[1;32mpass\u001b[0m\u001b[1;33m\u001b[0m\u001b[1;33m\u001b[0m\u001b[0m\n",
      "\u001b[1;31mSystemExit\u001b[0m: 1"
     ]
    }
   ],
   "source": [
    "%tb"
   ]
  },
  {
   "cell_type": "code",
   "execution_count": 10,
   "metadata": {},
   "outputs": [],
   "source": [
    "import os\n",
    "import pandas as pd\n",
    "\n",
    "data = pd.read_csv(\"C:\\\\Users\\\\Tomasz\\\\data_project\\\\BTC-USD\")\n",
    "r = 0\n",
    "if \"Datetime\" in data.columns:\n",
    "    for v in data[\"Datetime\"]:\n",
    "        data.loc[r,\"Datetime\"] = v[:19]\n",
    "        r+=1\n",
    "\n",
    "data.to_csv(\"C:\\\\Users\\\\Tomasz\\\\data_project\\\\BTC\", index = False)\n",
    "\n"
   ]
  },
  {
   "cell_type": "code",
   "execution_count": 12,
   "metadata": {},
   "outputs": [
    {
     "name": "stdout",
     "output_type": "stream",
     "text": [
      "Dash is running on http://127.0.0.1:8050/\n",
      "\n",
      " * Serving Flask app \"__main__\" (lazy loading)\n",
      " * Environment: production\n",
      "\u001b[31m   WARNING: This is a development server. Do not use it in a production deployment.\u001b[0m\n",
      "\u001b[2m   Use a production WSGI server instead.\u001b[0m\n",
      " * Debug mode: on\n"
     ]
    },
    {
     "ename": "SystemExit",
     "evalue": "1",
     "output_type": "error",
     "traceback": [
      "An exception has occurred, use %tb to see the full traceback.\n",
      "\u001b[1;31mSystemExit\u001b[0m\u001b[1;31m:\u001b[0m 1\n"
     ]
    },
    {
     "name": "stderr",
     "output_type": "stream",
     "text": [
      "c:\\Users\\Tomasz\\anaconda3\\lib\\site-packages\\IPython\\core\\interactiveshell.py:3452: UserWarning:\n",
      "\n",
      "To exit: use 'exit', 'quit', or Ctrl-D.\n",
      "\n"
     ]
    }
   ],
   "source": [
    "import dash\n",
    "from dash import dcc\n",
    "from dash import html\n",
    "import pandas as pd\n",
    "import plotly.graph_objects as go\n",
    "\n",
    "ticker = pd.read_csv(\"C:\\\\Users\\\\Tomasz\\\\data_project\\\\BTC\")\n",
    "\n",
    "app = dash.Dash()\n",
    "\n",
    "app.layout = html.Div(\n",
    "    children=[\n",
    "        html.H1(\"OHLC Analiser Tool\"),\n",
    "        html.P(\"This is tool which helps to analise OHLC data.\"),\n",
    "        dcc.Graph(\n",
    "            id=\"candlestick-chart\",\n",
    "            figure=go.Figure(\n",
    "                data=[\n",
    "                    go.Candlestick(\n",
    "                        x=ticker[\"Datetime\"],\n",
    "                        open=ticker[\"Open\"],\n",
    "                        high=ticker[\"High\"],\n",
    "                        low=ticker[\"Low\"],\n",
    "                        close=ticker[\"Close\"],\n",
    "                    )\n",
    "                ],\n",
    "                layout=go.Layout(title=\"Candlestick Chart\"),\n",
    "            ),\n",
    "        ),\n",
    "    ]\n",
    ")\n",
    "\n",
    "if __name__ == \"__main__\":\n",
    "    app.run_server(debug=True)\n"
   ]
  },
  {
   "cell_type": "code",
   "execution_count": 13,
   "metadata": {},
   "outputs": [
    {
     "ename": "SystemExit",
     "evalue": "1",
     "output_type": "error",
     "traceback": [
      "\u001b[1;31m---------------------------------------------------------------------------\u001b[0m",
      "\u001b[1;31mSystemExit\u001b[0m                                Traceback (most recent call last)",
      "\u001b[1;32m~\\AppData\\Local\\Temp/ipykernel_25652/3334003032.py\u001b[0m in \u001b[0;36m<module>\u001b[1;34m\u001b[0m\n\u001b[0;32m     32\u001b[0m \u001b[1;33m\u001b[0m\u001b[0m\n\u001b[0;32m     33\u001b[0m \u001b[1;32mif\u001b[0m \u001b[0m__name__\u001b[0m \u001b[1;33m==\u001b[0m \u001b[1;34m\"__main__\"\u001b[0m\u001b[1;33m:\u001b[0m\u001b[1;33m\u001b[0m\u001b[1;33m\u001b[0m\u001b[0m\n\u001b[1;32m---> 34\u001b[1;33m     \u001b[0mapp\u001b[0m\u001b[1;33m.\u001b[0m\u001b[0mrun_server\u001b[0m\u001b[1;33m(\u001b[0m\u001b[0mdebug\u001b[0m\u001b[1;33m=\u001b[0m\u001b[1;32mTrue\u001b[0m\u001b[1;33m)\u001b[0m\u001b[1;33m\u001b[0m\u001b[1;33m\u001b[0m\u001b[0m\n\u001b[0m",
      "\u001b[1;32mc:\\Users\\Tomasz\\anaconda3\\lib\\site-packages\\dash\\dash.py\u001b[0m in \u001b[0;36mrun_server\u001b[1;34m(self, *args, **kwargs)\u001b[0m\n\u001b[0;32m   2127\u001b[0m         \u001b[0mSee\u001b[0m\u001b[0;31m \u001b[0m\u001b[0;31m`\u001b[0m\u001b[0mapp\u001b[0m\u001b[1;33m.\u001b[0m\u001b[0mrun\u001b[0m\u001b[0;31m`\u001b[0m \u001b[1;32mfor\u001b[0m \u001b[0musage\u001b[0m \u001b[0minformation\u001b[0m\u001b[1;33m.\u001b[0m\u001b[1;33m\u001b[0m\u001b[1;33m\u001b[0m\u001b[0m\n\u001b[0;32m   2128\u001b[0m         \"\"\"\n\u001b[1;32m-> 2129\u001b[1;33m         \u001b[0mself\u001b[0m\u001b[1;33m.\u001b[0m\u001b[0mrun\u001b[0m\u001b[1;33m(\u001b[0m\u001b[1;33m*\u001b[0m\u001b[0margs\u001b[0m\u001b[1;33m,\u001b[0m \u001b[1;33m**\u001b[0m\u001b[0mkwargs\u001b[0m\u001b[1;33m)\u001b[0m\u001b[1;33m\u001b[0m\u001b[1;33m\u001b[0m\u001b[0m\n\u001b[0m",
      "\u001b[1;32mc:\\Users\\Tomasz\\anaconda3\\lib\\site-packages\\dash\\dash.py\u001b[0m in \u001b[0;36mrun\u001b[1;34m(self, host, port, proxy, debug, dev_tools_ui, dev_tools_props_check, dev_tools_serve_dev_bundles, dev_tools_hot_reload, dev_tools_hot_reload_interval, dev_tools_hot_reload_watch_interval, dev_tools_hot_reload_max_retry, dev_tools_silence_routes_logging, dev_tools_prune_errors, **flask_run_options)\u001b[0m\n\u001b[0;32m   1987\u001b[0m                     \u001b[0mextra_files\u001b[0m\u001b[1;33m.\u001b[0m\u001b[0mappend\u001b[0m\u001b[1;33m(\u001b[0m\u001b[0mpath\u001b[0m\u001b[1;33m)\u001b[0m\u001b[1;33m\u001b[0m\u001b[1;33m\u001b[0m\u001b[0m\n\u001b[0;32m   1988\u001b[0m \u001b[1;33m\u001b[0m\u001b[0m\n\u001b[1;32m-> 1989\u001b[1;33m         \u001b[0mself\u001b[0m\u001b[1;33m.\u001b[0m\u001b[0mserver\u001b[0m\u001b[1;33m.\u001b[0m\u001b[0mrun\u001b[0m\u001b[1;33m(\u001b[0m\u001b[0mhost\u001b[0m\u001b[1;33m=\u001b[0m\u001b[0mhost\u001b[0m\u001b[1;33m,\u001b[0m \u001b[0mport\u001b[0m\u001b[1;33m=\u001b[0m\u001b[0mport\u001b[0m\u001b[1;33m,\u001b[0m \u001b[0mdebug\u001b[0m\u001b[1;33m=\u001b[0m\u001b[0mdebug\u001b[0m\u001b[1;33m,\u001b[0m \u001b[1;33m**\u001b[0m\u001b[0mflask_run_options\u001b[0m\u001b[1;33m)\u001b[0m\u001b[1;33m\u001b[0m\u001b[1;33m\u001b[0m\u001b[0m\n\u001b[0m\u001b[0;32m   1990\u001b[0m \u001b[1;33m\u001b[0m\u001b[0m\n\u001b[0;32m   1991\u001b[0m     \u001b[1;32mdef\u001b[0m \u001b[0m_import_layouts_from_pages\u001b[0m\u001b[1;33m(\u001b[0m\u001b[0mself\u001b[0m\u001b[1;33m)\u001b[0m\u001b[1;33m:\u001b[0m\u001b[1;33m\u001b[0m\u001b[1;33m\u001b[0m\u001b[0m\n",
      "\u001b[1;32mc:\\Users\\Tomasz\\anaconda3\\lib\\site-packages\\flask\\app.py\u001b[0m in \u001b[0;36mrun\u001b[1;34m(self, host, port, debug, load_dotenv, **options)\u001b[0m\n\u001b[0;32m    988\u001b[0m \u001b[1;33m\u001b[0m\u001b[0m\n\u001b[0;32m    989\u001b[0m         \u001b[1;32mtry\u001b[0m\u001b[1;33m:\u001b[0m\u001b[1;33m\u001b[0m\u001b[1;33m\u001b[0m\u001b[0m\n\u001b[1;32m--> 990\u001b[1;33m             \u001b[0mrun_simple\u001b[0m\u001b[1;33m(\u001b[0m\u001b[0mhost\u001b[0m\u001b[1;33m,\u001b[0m \u001b[0mport\u001b[0m\u001b[1;33m,\u001b[0m \u001b[0mself\u001b[0m\u001b[1;33m,\u001b[0m \u001b[1;33m**\u001b[0m\u001b[0moptions\u001b[0m\u001b[1;33m)\u001b[0m\u001b[1;33m\u001b[0m\u001b[1;33m\u001b[0m\u001b[0m\n\u001b[0m\u001b[0;32m    991\u001b[0m         \u001b[1;32mfinally\u001b[0m\u001b[1;33m:\u001b[0m\u001b[1;33m\u001b[0m\u001b[1;33m\u001b[0m\u001b[0m\n\u001b[0;32m    992\u001b[0m             \u001b[1;31m# reset the first request information if the development server\u001b[0m\u001b[1;33m\u001b[0m\u001b[1;33m\u001b[0m\u001b[0m\n",
      "\u001b[1;32mc:\\Users\\Tomasz\\anaconda3\\lib\\site-packages\\werkzeug\\serving.py\u001b[0m in \u001b[0;36mrun_simple\u001b[1;34m(hostname, port, application, use_reloader, use_debugger, use_evalex, extra_files, exclude_patterns, reloader_interval, reloader_type, threaded, processes, request_handler, static_files, passthrough_errors, ssl_context)\u001b[0m\n\u001b[0;32m   1000\u001b[0m         \u001b[1;32mfrom\u001b[0m \u001b[1;33m.\u001b[0m\u001b[0m_reloader\u001b[0m \u001b[1;32mimport\u001b[0m \u001b[0mrun_with_reloader\u001b[0m \u001b[1;32mas\u001b[0m \u001b[0m_rwr\u001b[0m\u001b[1;33m\u001b[0m\u001b[1;33m\u001b[0m\u001b[0m\n\u001b[0;32m   1001\u001b[0m \u001b[1;33m\u001b[0m\u001b[0m\n\u001b[1;32m-> 1002\u001b[1;33m         _rwr(\n\u001b[0m\u001b[0;32m   1003\u001b[0m             \u001b[0minner\u001b[0m\u001b[1;33m,\u001b[0m\u001b[1;33m\u001b[0m\u001b[1;33m\u001b[0m\u001b[0m\n\u001b[0;32m   1004\u001b[0m             \u001b[0mextra_files\u001b[0m\u001b[1;33m=\u001b[0m\u001b[0mextra_files\u001b[0m\u001b[1;33m,\u001b[0m\u001b[1;33m\u001b[0m\u001b[1;33m\u001b[0m\u001b[0m\n",
      "\u001b[1;32mc:\\Users\\Tomasz\\anaconda3\\lib\\site-packages\\werkzeug\\_reloader.py\u001b[0m in \u001b[0;36mrun_with_reloader\u001b[1;34m(main_func, extra_files, exclude_patterns, interval, reloader_type)\u001b[0m\n\u001b[0;32m    426\u001b[0m                 \u001b[0mreloader\u001b[0m\u001b[1;33m.\u001b[0m\u001b[0mrun\u001b[0m\u001b[1;33m(\u001b[0m\u001b[1;33m)\u001b[0m\u001b[1;33m\u001b[0m\u001b[1;33m\u001b[0m\u001b[0m\n\u001b[0;32m    427\u001b[0m         \u001b[1;32melse\u001b[0m\u001b[1;33m:\u001b[0m\u001b[1;33m\u001b[0m\u001b[1;33m\u001b[0m\u001b[0m\n\u001b[1;32m--> 428\u001b[1;33m             \u001b[0msys\u001b[0m\u001b[1;33m.\u001b[0m\u001b[0mexit\u001b[0m\u001b[1;33m(\u001b[0m\u001b[0mreloader\u001b[0m\u001b[1;33m.\u001b[0m\u001b[0mrestart_with_reloader\u001b[0m\u001b[1;33m(\u001b[0m\u001b[1;33m)\u001b[0m\u001b[1;33m)\u001b[0m\u001b[1;33m\u001b[0m\u001b[1;33m\u001b[0m\u001b[0m\n\u001b[0m\u001b[0;32m    429\u001b[0m     \u001b[1;32mexcept\u001b[0m \u001b[0mKeyboardInterrupt\u001b[0m\u001b[1;33m:\u001b[0m\u001b[1;33m\u001b[0m\u001b[1;33m\u001b[0m\u001b[0m\n\u001b[0;32m    430\u001b[0m         \u001b[1;32mpass\u001b[0m\u001b[1;33m\u001b[0m\u001b[1;33m\u001b[0m\u001b[0m\n",
      "\u001b[1;31mSystemExit\u001b[0m: 1"
     ]
    }
   ],
   "source": [
    "%tb"
   ]
  },
  {
   "cell_type": "code",
   "execution_count": 14,
   "metadata": {},
   "outputs": [
    {
     "name": "stdout",
     "output_type": "stream",
     "text": [
      "Dash is running on http://127.0.0.1:8050/\n",
      "\n",
      " * Serving Flask app \"__main__\" (lazy loading)\n",
      " * Environment: production\n",
      "\u001b[31m   WARNING: This is a development server. Do not use it in a production deployment.\u001b[0m\n",
      "\u001b[2m   Use a production WSGI server instead.\u001b[0m\n",
      " * Debug mode: on\n"
     ]
    },
    {
     "ename": "SystemExit",
     "evalue": "1",
     "output_type": "error",
     "traceback": [
      "An exception has occurred, use %tb to see the full traceback.\n",
      "\u001b[1;31mSystemExit\u001b[0m\u001b[1;31m:\u001b[0m 1\n"
     ]
    },
    {
     "name": "stderr",
     "output_type": "stream",
     "text": [
      "c:\\Users\\Tomasz\\anaconda3\\lib\\site-packages\\IPython\\core\\interactiveshell.py:3452: UserWarning:\n",
      "\n",
      "To exit: use 'exit', 'quit', or Ctrl-D.\n",
      "\n"
     ]
    }
   ],
   "source": [
    "import dash\n",
    "from dash import dcc\n",
    "from dash import html\n",
    "import pandas as pd\n",
    "import plotly.graph_objects as go\n",
    "\n",
    "ticker = pd.read_csv(\"C:\\\\Users\\\\Tomasz\\\\data_project\\\\BTC\")\n",
    "\n",
    "app = dash.Dash()\n",
    "\n",
    "app.layout = html.Div(\n",
    "    children=[\n",
    "        html.H1(\"OHLC Analiser Tool\"),\n",
    "        html.P(\"This is tool which helps to analise OHLC data.\"),\n",
    "        dcc.Graph(\n",
    "            id=\"candlestick-chart\",\n",
    "            figure=go.Figure(\n",
    "                data=[\n",
    "                    go.Candlestick(\n",
    "                        x=ticker[\"Datetime\"],\n",
    "                        open=ticker[\"Open\"],\n",
    "                        high=ticker[\"High\"],\n",
    "                        low=ticker[\"Low\"],\n",
    "                        close=ticker[\"Close\"],\n",
    "                    )\n",
    "                ],\n",
    "                layout=go.Layout(title=\"Candlestick Chart\", yaxis={\"autorange\": True},),\n",
    "            ),\n",
    "        ),\n",
    "    ]\n",
    ")\n",
    "\n",
    "if __name__ == \"__main__\":\n",
    "    app.run_server(debug=True)\n"
   ]
  },
  {
   "cell_type": "code",
   "execution_count": 15,
   "metadata": {},
   "outputs": [
    {
     "ename": "SystemExit",
     "evalue": "1",
     "output_type": "error",
     "traceback": [
      "\u001b[1;31m---------------------------------------------------------------------------\u001b[0m",
      "\u001b[1;31mSystemExit\u001b[0m                                Traceback (most recent call last)",
      "\u001b[1;32m~\\AppData\\Local\\Temp/ipykernel_25652/99361004.py\u001b[0m in \u001b[0;36m<module>\u001b[1;34m\u001b[0m\n\u001b[0;32m     32\u001b[0m \u001b[1;33m\u001b[0m\u001b[0m\n\u001b[0;32m     33\u001b[0m \u001b[1;32mif\u001b[0m \u001b[0m__name__\u001b[0m \u001b[1;33m==\u001b[0m \u001b[1;34m\"__main__\"\u001b[0m\u001b[1;33m:\u001b[0m\u001b[1;33m\u001b[0m\u001b[1;33m\u001b[0m\u001b[0m\n\u001b[1;32m---> 34\u001b[1;33m     \u001b[0mapp\u001b[0m\u001b[1;33m.\u001b[0m\u001b[0mrun_server\u001b[0m\u001b[1;33m(\u001b[0m\u001b[0mdebug\u001b[0m\u001b[1;33m=\u001b[0m\u001b[1;32mTrue\u001b[0m\u001b[1;33m)\u001b[0m\u001b[1;33m\u001b[0m\u001b[1;33m\u001b[0m\u001b[0m\n\u001b[0m",
      "\u001b[1;32mc:\\Users\\Tomasz\\anaconda3\\lib\\site-packages\\dash\\dash.py\u001b[0m in \u001b[0;36mrun_server\u001b[1;34m(self, *args, **kwargs)\u001b[0m\n\u001b[0;32m   2127\u001b[0m         \u001b[0mSee\u001b[0m\u001b[0;31m \u001b[0m\u001b[0;31m`\u001b[0m\u001b[0mapp\u001b[0m\u001b[1;33m.\u001b[0m\u001b[0mrun\u001b[0m\u001b[0;31m`\u001b[0m \u001b[1;32mfor\u001b[0m \u001b[0musage\u001b[0m \u001b[0minformation\u001b[0m\u001b[1;33m.\u001b[0m\u001b[1;33m\u001b[0m\u001b[1;33m\u001b[0m\u001b[0m\n\u001b[0;32m   2128\u001b[0m         \"\"\"\n\u001b[1;32m-> 2129\u001b[1;33m         \u001b[0mself\u001b[0m\u001b[1;33m.\u001b[0m\u001b[0mrun\u001b[0m\u001b[1;33m(\u001b[0m\u001b[1;33m*\u001b[0m\u001b[0margs\u001b[0m\u001b[1;33m,\u001b[0m \u001b[1;33m**\u001b[0m\u001b[0mkwargs\u001b[0m\u001b[1;33m)\u001b[0m\u001b[1;33m\u001b[0m\u001b[1;33m\u001b[0m\u001b[0m\n\u001b[0m",
      "\u001b[1;32mc:\\Users\\Tomasz\\anaconda3\\lib\\site-packages\\dash\\dash.py\u001b[0m in \u001b[0;36mrun\u001b[1;34m(self, host, port, proxy, debug, dev_tools_ui, dev_tools_props_check, dev_tools_serve_dev_bundles, dev_tools_hot_reload, dev_tools_hot_reload_interval, dev_tools_hot_reload_watch_interval, dev_tools_hot_reload_max_retry, dev_tools_silence_routes_logging, dev_tools_prune_errors, **flask_run_options)\u001b[0m\n\u001b[0;32m   1987\u001b[0m                     \u001b[0mextra_files\u001b[0m\u001b[1;33m.\u001b[0m\u001b[0mappend\u001b[0m\u001b[1;33m(\u001b[0m\u001b[0mpath\u001b[0m\u001b[1;33m)\u001b[0m\u001b[1;33m\u001b[0m\u001b[1;33m\u001b[0m\u001b[0m\n\u001b[0;32m   1988\u001b[0m \u001b[1;33m\u001b[0m\u001b[0m\n\u001b[1;32m-> 1989\u001b[1;33m         \u001b[0mself\u001b[0m\u001b[1;33m.\u001b[0m\u001b[0mserver\u001b[0m\u001b[1;33m.\u001b[0m\u001b[0mrun\u001b[0m\u001b[1;33m(\u001b[0m\u001b[0mhost\u001b[0m\u001b[1;33m=\u001b[0m\u001b[0mhost\u001b[0m\u001b[1;33m,\u001b[0m \u001b[0mport\u001b[0m\u001b[1;33m=\u001b[0m\u001b[0mport\u001b[0m\u001b[1;33m,\u001b[0m \u001b[0mdebug\u001b[0m\u001b[1;33m=\u001b[0m\u001b[0mdebug\u001b[0m\u001b[1;33m,\u001b[0m \u001b[1;33m**\u001b[0m\u001b[0mflask_run_options\u001b[0m\u001b[1;33m)\u001b[0m\u001b[1;33m\u001b[0m\u001b[1;33m\u001b[0m\u001b[0m\n\u001b[0m\u001b[0;32m   1990\u001b[0m \u001b[1;33m\u001b[0m\u001b[0m\n\u001b[0;32m   1991\u001b[0m     \u001b[1;32mdef\u001b[0m \u001b[0m_import_layouts_from_pages\u001b[0m\u001b[1;33m(\u001b[0m\u001b[0mself\u001b[0m\u001b[1;33m)\u001b[0m\u001b[1;33m:\u001b[0m\u001b[1;33m\u001b[0m\u001b[1;33m\u001b[0m\u001b[0m\n",
      "\u001b[1;32mc:\\Users\\Tomasz\\anaconda3\\lib\\site-packages\\flask\\app.py\u001b[0m in \u001b[0;36mrun\u001b[1;34m(self, host, port, debug, load_dotenv, **options)\u001b[0m\n\u001b[0;32m    988\u001b[0m \u001b[1;33m\u001b[0m\u001b[0m\n\u001b[0;32m    989\u001b[0m         \u001b[1;32mtry\u001b[0m\u001b[1;33m:\u001b[0m\u001b[1;33m\u001b[0m\u001b[1;33m\u001b[0m\u001b[0m\n\u001b[1;32m--> 990\u001b[1;33m             \u001b[0mrun_simple\u001b[0m\u001b[1;33m(\u001b[0m\u001b[0mhost\u001b[0m\u001b[1;33m,\u001b[0m \u001b[0mport\u001b[0m\u001b[1;33m,\u001b[0m \u001b[0mself\u001b[0m\u001b[1;33m,\u001b[0m \u001b[1;33m**\u001b[0m\u001b[0moptions\u001b[0m\u001b[1;33m)\u001b[0m\u001b[1;33m\u001b[0m\u001b[1;33m\u001b[0m\u001b[0m\n\u001b[0m\u001b[0;32m    991\u001b[0m         \u001b[1;32mfinally\u001b[0m\u001b[1;33m:\u001b[0m\u001b[1;33m\u001b[0m\u001b[1;33m\u001b[0m\u001b[0m\n\u001b[0;32m    992\u001b[0m             \u001b[1;31m# reset the first request information if the development server\u001b[0m\u001b[1;33m\u001b[0m\u001b[1;33m\u001b[0m\u001b[0m\n",
      "\u001b[1;32mc:\\Users\\Tomasz\\anaconda3\\lib\\site-packages\\werkzeug\\serving.py\u001b[0m in \u001b[0;36mrun_simple\u001b[1;34m(hostname, port, application, use_reloader, use_debugger, use_evalex, extra_files, exclude_patterns, reloader_interval, reloader_type, threaded, processes, request_handler, static_files, passthrough_errors, ssl_context)\u001b[0m\n\u001b[0;32m   1000\u001b[0m         \u001b[1;32mfrom\u001b[0m \u001b[1;33m.\u001b[0m\u001b[0m_reloader\u001b[0m \u001b[1;32mimport\u001b[0m \u001b[0mrun_with_reloader\u001b[0m \u001b[1;32mas\u001b[0m \u001b[0m_rwr\u001b[0m\u001b[1;33m\u001b[0m\u001b[1;33m\u001b[0m\u001b[0m\n\u001b[0;32m   1001\u001b[0m \u001b[1;33m\u001b[0m\u001b[0m\n\u001b[1;32m-> 1002\u001b[1;33m         _rwr(\n\u001b[0m\u001b[0;32m   1003\u001b[0m             \u001b[0minner\u001b[0m\u001b[1;33m,\u001b[0m\u001b[1;33m\u001b[0m\u001b[1;33m\u001b[0m\u001b[0m\n\u001b[0;32m   1004\u001b[0m             \u001b[0mextra_files\u001b[0m\u001b[1;33m=\u001b[0m\u001b[0mextra_files\u001b[0m\u001b[1;33m,\u001b[0m\u001b[1;33m\u001b[0m\u001b[1;33m\u001b[0m\u001b[0m\n",
      "\u001b[1;32mc:\\Users\\Tomasz\\anaconda3\\lib\\site-packages\\werkzeug\\_reloader.py\u001b[0m in \u001b[0;36mrun_with_reloader\u001b[1;34m(main_func, extra_files, exclude_patterns, interval, reloader_type)\u001b[0m\n\u001b[0;32m    426\u001b[0m                 \u001b[0mreloader\u001b[0m\u001b[1;33m.\u001b[0m\u001b[0mrun\u001b[0m\u001b[1;33m(\u001b[0m\u001b[1;33m)\u001b[0m\u001b[1;33m\u001b[0m\u001b[1;33m\u001b[0m\u001b[0m\n\u001b[0;32m    427\u001b[0m         \u001b[1;32melse\u001b[0m\u001b[1;33m:\u001b[0m\u001b[1;33m\u001b[0m\u001b[1;33m\u001b[0m\u001b[0m\n\u001b[1;32m--> 428\u001b[1;33m             \u001b[0msys\u001b[0m\u001b[1;33m.\u001b[0m\u001b[0mexit\u001b[0m\u001b[1;33m(\u001b[0m\u001b[0mreloader\u001b[0m\u001b[1;33m.\u001b[0m\u001b[0mrestart_with_reloader\u001b[0m\u001b[1;33m(\u001b[0m\u001b[1;33m)\u001b[0m\u001b[1;33m)\u001b[0m\u001b[1;33m\u001b[0m\u001b[1;33m\u001b[0m\u001b[0m\n\u001b[0m\u001b[0;32m    429\u001b[0m     \u001b[1;32mexcept\u001b[0m \u001b[0mKeyboardInterrupt\u001b[0m\u001b[1;33m:\u001b[0m\u001b[1;33m\u001b[0m\u001b[1;33m\u001b[0m\u001b[0m\n\u001b[0;32m    430\u001b[0m         \u001b[1;32mpass\u001b[0m\u001b[1;33m\u001b[0m\u001b[1;33m\u001b[0m\u001b[0m\n",
      "\u001b[1;31mSystemExit\u001b[0m: 1"
     ]
    }
   ],
   "source": [
    "%tb"
   ]
  },
  {
   "cell_type": "code",
   "execution_count": 23,
   "metadata": {},
   "outputs": [],
   "source": [
    "import pandas as pd\n",
    "\n",
    "column_names = [\n",
    "    \"Timestamp\", \"Open\", \"High\", \"Low\", \"Close\", \"Volume\", \"Close_time\", \"Quote_asset_volume\",\n",
    "    \"Number_of_trades\", \"Taker_buy_base_asset_volume\", \"Taker_buy_quote_asset_volume\", \"Ignore\"\n",
    "]\n",
    "\n",
    "# Add skiprows=1 to skip the first row containing the column names\n",
    "ticker = pd.read_csv(\"C:\\\\Users\\\\Tomasz\\\\data_project\\\\BTC.csv\", names=column_names, skiprows=1)\n",
    "\n",
    "# Convert the entire \"Timestamp\" column to datetime format in one line\n",
    "ticker[\"Timestamp\"] = pd.to_datetime(ticker[\"Timestamp\"], unit=\"ms\")\n",
    "\n",
    "# Save the updated DataFrame to a CSV file\n",
    "ticker.to_csv(\"C:\\\\Users\\\\Tomasz\\\\data_project\\\\BTC.csv\", index=False)"
   ]
  },
  {
   "cell_type": "code",
   "execution_count": 34,
   "metadata": {},
   "outputs": [
    {
     "name": "stdout",
     "output_type": "stream",
     "text": [
      "              Datetime        Open        High         Low       Close  \\\n",
      "0  2022-06-21 09:30:00  133.750000  133.789993  133.589996  133.604996   \n",
      "1  2022-06-21 09:31:00  133.690002  133.919998  133.449997  133.740005   \n",
      "2  2022-06-21 09:32:00  133.755005  134.139008  133.710403  134.050003   \n",
      "3  2022-06-21 09:33:00  134.059998  134.699997  134.059998  134.588806   \n",
      "4  2022-06-21 09:34:00  134.580002  135.139893  134.580002  135.054993   \n",
      "\n",
      "    Adj Close   Volume  Date  \n",
      "0  133.604996  4575306   NaN  \n",
      "1  133.740005   573932   NaN  \n",
      "2  134.050003   600562   NaN  \n",
      "3  134.588806   820451   NaN  \n",
      "4  135.054993   812349   NaN  \n",
      "                  Datetime        Open        High         Low       Close  \\\n",
      "68005  2023-04-28 15:56:00  169.589996  169.690002  169.570007  169.593399   \n",
      "68006  2023-04-28 15:57:00  169.590103  169.664993  169.570297  169.585007   \n",
      "68007  2023-04-28 15:58:00  169.585007  169.649994  169.539993  169.639999   \n",
      "68008  2023-04-28 15:59:00  169.639999  169.710007  169.589996  169.690002   \n",
      "68009  2023-04-28 16:00:00  169.679993  169.679993  169.679993  169.679993   \n",
      "\n",
      "        Adj Close   Volume  Date  \n",
      "68005  169.593399   416250   NaN  \n",
      "68006  169.585007   368799   NaN  \n",
      "68007  169.639999   451681   NaN  \n",
      "68008  169.690002  1188314   NaN  \n",
      "68009  169.679993        0   NaN  \n",
      "2022-06-21 09:30:00\n"
     ]
    }
   ],
   "source": [
    "import pandas as pd\n",
    "\n",
    "file_path = f\"C:\\\\Users\\Tomasz\\\\Desktop\\\\Test_folder\\\\AAPL\\\\1m\\\\CSV RAW\\\\AAPL\"\n",
    "\n",
    "ticker = pd.read_csv(file_path)\n",
    "cs= ticker.iloc[0,0]\n",
    "\n",
    "\n",
    "\n",
    "start_date = \"2022-05-01\"\n",
    "end_date = \"2023-09-01\"\n",
    "\n",
    "#ticker = ticker[(ticker.iloc[:,0] >= start_date) & (ticker.iloc[:,0] <= end_date)]\n",
    "print(ticker.head())\n",
    "print(ticker.tail())\n",
    "print(cs)\n"
   ]
  },
  {
   "cell_type": "code",
   "execution_count": 30,
   "metadata": {},
   "outputs": [
    {
     "name": "stdout",
     "output_type": "stream",
     "text": [
      "2023\n"
     ]
    }
   ],
   "source": [
    "import datetime\n",
    "from datetime import date, timedelta\n",
    "\n",
    "week_ago= pd.Timestamp.now().date()\n",
    "\n",
    "week_ago = week_ago.year\n",
    "\n",
    "\n",
    "print(week_ago)"
   ]
  },
  {
   "cell_type": "code",
   "execution_count": null,
   "metadata": {},
   "outputs": [],
   "source": [
    "def add_indicator(indicator_name, indicator_settings):\n",
    "\n",
    "    html.Div(\n",
    "        [\n",
    "            dbc.Button(f\"{indicator_name}({indicator_settings})\", color=\"primary\", className=\"me-1\"),\n",
    "            dbc.Button(\"X\", color=\"primary\", className=\"me-1\"),\n",
    "        ]   \n",
    "    )"
   ]
  },
  {
   "cell_type": "code",
   "execution_count": null,
   "metadata": {},
   "outputs": [],
   "source": [
    "@app.callback(Output(\"ticker_cndl_chart\", \"figure\"), [Input(\"ma_modal_ok\", \"n_clicks\"), Input(\"bb_modal_ok\", \"n_clicks\")], [State(\"input_ticker\", \"value\"),\n",
    "        State(\"interval_dropdown\", \"value\"),\n",
    "        State(\"date_picker\", \"start_date\"),\n",
    "        State(\"date_picker\", \"end_date\"),State(\"ma_length\", \"value\"),\n",
    "    State(\"bb_length\", \"value\"),\n",
    "    State(\"bb_std\", \"value\"),])\n",
    "\n",
    "def update_indicators(ma_ok,\n",
    "    bb_ok, ticker_value,\n",
    "    interval_value,\n",
    "    start_date,\n",
    "    end_date,\n",
    "    ma_length,\n",
    "    bb_length,\n",
    "    bb_std):\n",
    "\n",
    "    if ma_ok != None:\n",
    "    add_moving_average(\n",
    "        ma_length,\n",
    "        ticker,\n",
    "        fig_data,\n",
    "        ticker_value,\n",
    "        interval_value,\n",
    "        start_date,\n",
    "        end_date,\n",
    "    )\n",
    "    \n",
    "    if bb_ok:\n",
    "    add_bollinger_bands(\n",
    "        bb_length,\n",
    "        bb_std,\n",
    "        ticker,\n",
    "        fig_data,\n",
    "        ticker_value,\n",
    "        interval_value,\n",
    "        start_date,\n",
    "        end_date,\n",
    "    )\n",
    "\n",
    "\n",
    "    \n"
   ]
  },
  {
   "cell_type": "code",
   "execution_count": 1,
   "metadata": {},
   "outputs": [
    {
     "name": "stdout",
     "output_type": "stream",
     "text": [
      "United States\n"
     ]
    }
   ],
   "source": [
    "\n"
   ]
  },
  {
   "cell_type": "code",
   "execution_count": 21,
   "metadata": {},
   "outputs": [
    {
     "ename": "KeyError",
     "evalue": "'currency'",
     "output_type": "error",
     "traceback": [
      "\u001b[1;31m---------------------------------------------------------------------------\u001b[0m",
      "\u001b[1;31mKeyError\u001b[0m                                  Traceback (most recent call last)",
      "\u001b[1;32m~\\AppData\\Local\\Temp/ipykernel_17496/1271672941.py\u001b[0m in \u001b[0;36m<module>\u001b[1;34m\u001b[0m\n\u001b[0;32m      5\u001b[0m \u001b[1;33m\u001b[0m\u001b[0m\n\u001b[0;32m      6\u001b[0m \u001b[0mticker\u001b[0m \u001b[1;33m=\u001b[0m \u001b[0mTicker\u001b[0m\u001b[1;33m(\u001b[0m\u001b[1;34m\"V\"\u001b[0m\u001b[1;33m)\u001b[0m\u001b[1;33m\u001b[0m\u001b[1;33m\u001b[0m\u001b[0m\n\u001b[1;32m----> 7\u001b[1;33m \u001b[0minfo\u001b[0m \u001b[1;33m=\u001b[0m \u001b[0mticker\u001b[0m\u001b[1;33m.\u001b[0m\u001b[0mprice\u001b[0m\u001b[1;33m[\u001b[0m\u001b[1;34m\"currency\"\u001b[0m\u001b[1;33m]\u001b[0m\u001b[1;33m\u001b[0m\u001b[1;33m\u001b[0m\u001b[0m\n\u001b[0m\u001b[0;32m      8\u001b[0m \u001b[1;33m\u001b[0m\u001b[0m\n\u001b[0;32m      9\u001b[0m \u001b[1;33m\u001b[0m\u001b[0m\n",
      "\u001b[1;31mKeyError\u001b[0m: 'currency'"
     ]
    }
   ],
   "source": [
    "import pandas as pd\n",
    "import yahooquery as yq\n",
    "from yahooquery import Ticker\n",
    "\n",
    "\n",
    "ticker = Ticker(\"V\")\n",
    "info = ticker.price[\"currency\"]\n",
    "\n",
    "\n",
    "print(info)"
   ]
  },
  {
   "cell_type": "code",
   "execution_count": 38,
   "metadata": {},
   "outputs": [],
   "source": [
    "import requests\n",
    "from bs4 import BeautifulSoup as bs\n",
    "import re\n",
    "\n",
    "def find_logo(ticker):\n",
    "    \"\"\"Scrapes TradingView website in order to get logo of company based on provided ticker\"\"\"\n",
    "\n",
    "    url = f\"https://www.tradingview.com/symbols/{ticker}\"\n",
    "    pattern = r'src=\"(.*?)\"'\n",
    "\n",
    "    response = requests.get(url)\n",
    "    soup = bs(response.content, \"html.parser\")\n",
    "    img_elements = soup.find_all('img', class_='tv-circle-logo tv-circle-logo--xxlarge medium-xoKMfU7r')\n",
    "    img_element = str(img_elements[0])\n",
    "    match = re.findall(pattern, img_element)\n",
    "    logo_url = match[0]\n",
    "\n",
    "    return logo_url\n"
   ]
  },
  {
   "cell_type": "code",
   "execution_count": 39,
   "metadata": {},
   "outputs": [
    {
     "name": "stdout",
     "output_type": "stream",
     "text": [
      "https://s3-symbol-logo.tradingview.com/apple--big.svg\n"
     ]
    }
   ],
   "source": [
    "x = find_logo(\"AAPL\")\n",
    "\n",
    "print(x)"
   ]
  },
  {
   "cell_type": "code",
   "execution_count": 44,
   "metadata": {},
   "outputs": [],
   "source": [
    "import pycountry\n",
    "\n",
    "def find_flag(country):\n",
    "    \"\"\"Finds flag for company origin country via pycountry library\"\"\"\n",
    "\n",
    "    flag = pycountry.countries.search_fuzzy(country)\n",
    "\n",
    "    return flag[0].emoji"
   ]
  },
  {
   "cell_type": "code",
   "execution_count": 48,
   "metadata": {},
   "outputs": [
    {
     "ename": "AttributeError",
     "evalue": "",
     "output_type": "error",
     "traceback": [
      "\u001b[1;31m---------------------------------------------------------------------------\u001b[0m",
      "\u001b[1;31mAttributeError\u001b[0m                            Traceback (most recent call last)",
      "\u001b[1;32m~\\AppData\\Local\\Temp/ipykernel_21332/1191456288.py\u001b[0m in \u001b[0;36m<module>\u001b[1;34m\u001b[0m\n\u001b[1;32m----> 1\u001b[1;33m \u001b[0mx\u001b[0m \u001b[1;33m=\u001b[0m \u001b[0mfind_flag\u001b[0m\u001b[1;33m(\u001b[0m\u001b[1;34m\"Poland\"\u001b[0m\u001b[1;33m)\u001b[0m\u001b[1;33m\u001b[0m\u001b[1;33m\u001b[0m\u001b[0m\n\u001b[0m\u001b[0;32m      2\u001b[0m \u001b[1;33m\u001b[0m\u001b[0m\n\u001b[0;32m      3\u001b[0m \u001b[0mprint\u001b[0m\u001b[1;33m(\u001b[0m\u001b[0mtype\u001b[0m\u001b[1;33m(\u001b[0m\u001b[0mx\u001b[0m\u001b[1;33m)\u001b[0m\u001b[1;33m)\u001b[0m\u001b[1;33m\u001b[0m\u001b[1;33m\u001b[0m\u001b[0m\n",
      "\u001b[1;32m~\\AppData\\Local\\Temp/ipykernel_21332/3908811594.py\u001b[0m in \u001b[0;36mfind_flag\u001b[1;34m(country)\u001b[0m\n\u001b[0;32m      6\u001b[0m     \u001b[0mflag\u001b[0m \u001b[1;33m=\u001b[0m \u001b[0mpycountry\u001b[0m\u001b[1;33m.\u001b[0m\u001b[0mcountries\u001b[0m\u001b[1;33m.\u001b[0m\u001b[0msearch_fuzzy\u001b[0m\u001b[1;33m(\u001b[0m\u001b[0mcountry\u001b[0m\u001b[1;33m)\u001b[0m\u001b[1;33m\u001b[0m\u001b[1;33m\u001b[0m\u001b[0m\n\u001b[0;32m      7\u001b[0m \u001b[1;33m\u001b[0m\u001b[0m\n\u001b[1;32m----> 8\u001b[1;33m     \u001b[1;32mreturn\u001b[0m \u001b[0mflag\u001b[0m\u001b[1;33m[\u001b[0m\u001b[1;36m0\u001b[0m\u001b[1;33m]\u001b[0m\u001b[1;33m.\u001b[0m\u001b[0memoji\u001b[0m\u001b[1;33m\u001b[0m\u001b[1;33m\u001b[0m\u001b[0m\n\u001b[0m",
      "\u001b[1;32mc:\\Users\\Tomasz\\anaconda3\\lib\\site-packages\\pycountry\\db.py\u001b[0m in \u001b[0;36m__getattr__\u001b[1;34m(self, key)\u001b[0m\n\u001b[0;32m     15\u001b[0m     \u001b[1;32mdef\u001b[0m \u001b[0m__getattr__\u001b[0m\u001b[1;33m(\u001b[0m\u001b[0mself\u001b[0m\u001b[1;33m,\u001b[0m \u001b[0mkey\u001b[0m\u001b[1;33m)\u001b[0m\u001b[1;33m:\u001b[0m\u001b[1;33m\u001b[0m\u001b[1;33m\u001b[0m\u001b[0m\n\u001b[0;32m     16\u001b[0m         \u001b[1;32mif\u001b[0m \u001b[0mkey\u001b[0m \u001b[1;32mnot\u001b[0m \u001b[1;32min\u001b[0m \u001b[0mself\u001b[0m\u001b[1;33m.\u001b[0m\u001b[0m_fields\u001b[0m\u001b[1;33m:\u001b[0m\u001b[1;33m\u001b[0m\u001b[1;33m\u001b[0m\u001b[0m\n\u001b[1;32m---> 17\u001b[1;33m             \u001b[1;32mraise\u001b[0m \u001b[0mAttributeError\u001b[0m\u001b[1;33m\u001b[0m\u001b[1;33m\u001b[0m\u001b[0m\n\u001b[0m\u001b[0;32m     18\u001b[0m         \u001b[1;32mreturn\u001b[0m \u001b[0mself\u001b[0m\u001b[1;33m.\u001b[0m\u001b[0m_fields\u001b[0m\u001b[1;33m[\u001b[0m\u001b[0mkey\u001b[0m\u001b[1;33m]\u001b[0m\u001b[1;33m\u001b[0m\u001b[1;33m\u001b[0m\u001b[0m\n\u001b[0;32m     19\u001b[0m \u001b[1;33m\u001b[0m\u001b[0m\n",
      "\u001b[1;31mAttributeError\u001b[0m: "
     ]
    }
   ],
   "source": [
    "x = find_flag(\"Poland\")\n",
    "\n",
    "print(type(x))"
   ]
  },
  {
   "cell_type": "code",
   "execution_count": 10,
   "metadata": {},
   "outputs": [
    {
     "name": "stdout",
     "output_type": "stream",
     "text": [
      "PL\n"
     ]
    }
   ],
   "source": [
    "import pycountry    \n",
    "\n",
    "country_info = pycountry.countries.search_fuzzy(\"Poland\")\n",
    "country_code = country_info[0].alpha_2\n",
    "\n",
    "print(country_code)"
   ]
  },
  {
   "cell_type": "code",
   "execution_count": 24,
   "metadata": {},
   "outputs": [
    {
     "name": "stdout",
     "output_type": "stream",
     "text": [
      "USD\n"
     ]
    }
   ],
   "source": [
    "import pandas as pd\n",
    "import yfinance as yf\n",
    "\n",
    "\n",
    "ticker = yf.Ticker(\"AAPL\")\n",
    "\n",
    "logo_url = ticker.info[\"currency\"]\n",
    " \n",
    "print(logo_url)"
   ]
  },
  {
   "cell_type": "code",
   "execution_count": 13,
   "metadata": {},
   "outputs": [],
   "source": [
    "import requests\n",
    "from bs4 import BeautifulSoup as bs\n",
    "import re\n",
    "import pycountry\n",
    "\n",
    "\n",
    "def find_logo(ticker):\n",
    "    \"\"\"Scrapes TradingView website in order to get logo of company based on provided ticker\"\"\"\n",
    "\n",
    "    url = f\"https://www.tradingview.com/symbols/{ticker}\"\n",
    "    pattern = r'src=\"(.*?)\"'\n",
    "\n",
    "    response = requests.get(url)\n",
    "    soup = bs(response.content, \"html.parser\")\n",
    "    img_elements = soup.find_all(\n",
    "        \"img\", class_=\"tv-circle-logo tv-circle-logo--xxlarge medium-xoKMfU7r\"\n",
    "    )\n",
    "    img_element = str(img_elements[0])\n",
    "    match = re.findall(pattern, img_element)\n",
    "    logo_url = match[0]\n",
    "\n",
    "    return logo_url\n",
    "\n",
    "def logo_bg_color(logo_url):\n",
    "\n",
    "    pattern = r'fill=\"(.*?)\"'\n",
    "\n",
    "    response = requests.get(logo_url)\n",
    "    soup = bs(response.content, \"html.parser\")\n",
    "    logo_bg_color = str((soup.find_all(\"path\"))[0])\n",
    "    match = re.findall(pattern, logo_bg_color)\n",
    "\n",
    "    return match[0]"
   ]
  },
  {
   "cell_type": "code",
   "execution_count": 16,
   "metadata": {},
   "outputs": [],
   "source": [
    "logo_url = find_logo(\"AAPL\")"
   ]
  },
  {
   "cell_type": "code",
   "execution_count": 17,
   "metadata": {},
   "outputs": [
    {
     "name": "stdout",
     "output_type": "stream",
     "text": [
      "url(#paint0_linear)\n"
     ]
    }
   ],
   "source": [
    "bg_color = logo_bg_color(logo_url)\n",
    "\n",
    "print(bg_color)"
   ]
  },
  {
   "cell_type": "code",
   "execution_count": 1,
   "metadata": {},
   "outputs": [],
   "source": [
    "import yahooquery as yq\n",
    "from yahooquery import Ticker\n",
    "import numpy as np\n",
    "\n",
    "\n",
    "def value_rating(ticker_text):\n",
    "    ticker = Ticker(ticker_text)\n",
    "    pe_ratio = ticker.summary_detail[\"trailingPE\"]\n",
    "    if pe_ratio < 5:\n",
    "        return 5\n",
    "    elif pe_ratio < 10:\n",
    "        return 4\n",
    "    elif pe_ratio < 15:\n",
    "        return 3\n",
    "    elif pe_ratio < 20:\n",
    "        return 2\n",
    "    elif pe_ratio < 25:\n",
    "        return 1\n",
    "    else:\n",
    "        return 0"
   ]
  },
  {
   "cell_type": "code",
   "execution_count": 6,
   "metadata": {},
   "outputs": [
    {
     "name": "stdout",
     "output_type": "stream",
     "text": [
      "31.502556\n"
     ]
    }
   ],
   "source": [
    "ticker = Ticker(\"AAPL\")\n",
    "\n",
    "print(ticker.summary_detail[\"AAPL\"][\"trailingPE\"])"
   ]
  },
  {
   "cell_type": "code",
   "execution_count": 16,
   "metadata": {},
   "outputs": [],
   "source": [
    "def stability_rating(ohlc_data):\n",
    "    data_length = len(ohlc_data.index)\n",
    "    ohlc_data[\"Log Returns\"] = np.log(ohlc_data[\"Close\"] / ohlc_data[\"Close\"].shift(1))\n",
    "    volatility = ohlc_data[\"Log Returns\"].std() * np.sqrt(data_length)\n",
    "\n",
    "    return volatility"
   ]
  },
  {
   "cell_type": "code",
   "execution_count": 17,
   "metadata": {},
   "outputs": [
    {
     "name": "stdout",
     "output_type": "stream",
     "text": [
      "[*********************100%***********************]  1 of 1 completed\n",
      "0.29856320400093783\n"
     ]
    }
   ],
   "source": [
    "import yfinance as yf\n",
    "data = yf.download(\n",
    "            tickers=\"AAPL\",\n",
    "            interval=\"1d\",\n",
    "            period=\"1y\",\n",
    "            prepost=False,\n",
    "            threads=True,\n",
    "        )\n",
    "data2 = stability_rating(data)\n",
    "\n",
    "print(data2)"
   ]
  },
  {
   "cell_type": "code",
   "execution_count": 20,
   "metadata": {},
   "outputs": [],
   "source": [
    "def future_rating(ticker_text):\n",
    "\n",
    "    ticker = Ticker(ticker_text)\n",
    "    forward_eps = ticker.key_stats[ticker_text][\"forwardEps\"] * 100\n",
    "    return forward_eps"
   ]
  },
  {
   "cell_type": "code",
   "execution_count": 21,
   "metadata": {},
   "outputs": [
    {
     "name": "stdout",
     "output_type": "stream",
     "text": [
      "656.0\n"
     ]
    }
   ],
   "source": [
    "x = future_rating(\"AAPL\")\n",
    "\n",
    "print(x)"
   ]
  },
  {
   "cell_type": "code",
   "execution_count": 12,
   "metadata": {},
   "outputs": [],
   "source": [
    "import yahooquery as yq\n",
    "from yahooquery import Ticker\n",
    "import numpy as np\n",
    "import yfinance as yf\n",
    "\n",
    "\n",
    "def value_rating(ticker_text):\n",
    "    ticker = Ticker(ticker_text)\n",
    "    try:\n",
    "        pe_ratio = ticker.summary_detail[ticker_text][\"trailingPE\"]\n",
    "    except KeyError:\n",
    "        return 0\n",
    "    print(f\"value {pe_ratio}\")\n",
    "    if pe_ratio < 20:\n",
    "        return 5\n",
    "    elif pe_ratio < 30:\n",
    "        return 4\n",
    "    elif pe_ratio < 50:\n",
    "        return 3\n",
    "    elif pe_ratio < 70:\n",
    "        return 2\n",
    "    else:\n",
    "        return 1\n",
    "\n",
    "\n",
    "def debt_rating(ticker_text):\n",
    "    ticker = Ticker(ticker_text)\n",
    "    try:\n",
    "        de_ratio = ticker.financial_data[ticker_text][\"debtToEquity\"] / 100\n",
    "    except KeyError:\n",
    "        return 0\n",
    "    print(f\"debt {de_ratio}\")\n",
    "    if de_ratio < 0.25:\n",
    "        return 5\n",
    "    elif de_ratio < 0.5:\n",
    "        return 4\n",
    "    elif de_ratio < 1:\n",
    "        return 3\n",
    "    elif de_ratio < 3:\n",
    "        return 2\n",
    "    else:\n",
    "        return 1\n",
    "\n",
    "\n",
    "def stability_rating(ohlc_data):\n",
    "    try:\n",
    "        data_length = len(ohlc_data.index)\n",
    "        ohlc_data[\"Log Returns\"] = np.log(\n",
    "            ohlc_data[\"Close\"] / ohlc_data[\"Close\"].shift(1)\n",
    "        )\n",
    "        volatility = ohlc_data[\"Log Returns\"].std() * np.sqrt(data_length)\n",
    "    except:\n",
    "        return 0\n",
    "    print(f\"stability {volatility}\")\n",
    "    if volatility < 0.3:\n",
    "        return 5\n",
    "    elif volatility < 0.4:\n",
    "        return 4\n",
    "    elif volatility < 0.6:\n",
    "        return 3\n",
    "    elif volatility < 0.8:\n",
    "        return 2\n",
    "    else:\n",
    "        return 1\n",
    "\n",
    "\n",
    "def dividend_rating(ticker_text):\n",
    "    ticker = Ticker(ticker_text)\n",
    "    try:\n",
    "        dividend_yield = (\n",
    "            ticker.summary_detail[ticker_text][\"trailingAnnualDividendYield\"] * 100\n",
    "        )\n",
    "    except KeyError:\n",
    "        return 0\n",
    "    print(f\"dividends {dividend_yield}\")\n",
    "    if dividend_yield > 5:\n",
    "        return 5\n",
    "    elif dividend_yield > 3:\n",
    "        return 4\n",
    "    elif dividend_yield > 2:\n",
    "        return 3\n",
    "    elif dividend_yield > 1:\n",
    "        return 2\n",
    "    elif dividend_yield > 0:\n",
    "        return 1\n",
    "    else:\n",
    "        return 0\n",
    "\n",
    "\n",
    "def future_rating(ticker_text):\n",
    "\n",
    "    ticker = Ticker(ticker_text)\n",
    "    try:\n",
    "        forward_eps = ticker.key_stats[ticker_text][\"forwardEps\"]\n",
    "    except KeyError:\n",
    "        return 0\n",
    "    print(f\"future {forward_eps}\")\n",
    "    if forward_eps > 15:\n",
    "        return 5\n",
    "    elif forward_eps > 12:\n",
    "        return 4\n",
    "    elif forward_eps > 8:\n",
    "        return 3\n",
    "    elif forward_eps > 4:\n",
    "        return 2\n",
    "    else:\n",
    "        return 1\n",
    "\n",
    "\n",
    "def check_all(ticker_text):\n",
    "\n",
    "    price_data = yf.download(\n",
    "        tickers=ticker_text, interval=\"1d\", period=\"1y\", prepost=False, threads=True,\n",
    "    )\n",
    "    price_data = price_data.reset_index()\n",
    "\n",
    "    value = value_rating(ticker_text)\n",
    "    debt = debt_rating(ticker_text)\n",
    "    stability = stability_rating(price_data)\n",
    "    dividend = dividend_rating(ticker_text)\n",
    "    future = future_rating(ticker_text)\n",
    "\n",
    "    list = [value, debt, stability, dividend, future]\n",
    "\n",
    "    print(list)\n",
    "\n",
    "    return True\n",
    "\n"
   ]
  },
  {
   "cell_type": "code",
   "execution_count": 13,
   "metadata": {},
   "outputs": [],
   "source": [
    "def multix(ticker_list):\n",
    "    for x in ticker_list:\n",
    "        check_all(x)\n"
   ]
  },
  {
   "cell_type": "code",
   "execution_count": 14,
   "metadata": {},
   "outputs": [
    {
     "name": "stdout",
     "output_type": "stream",
     "text": [
      "[*********************100%***********************]  1 of 1 completed\n",
      "value 31.342373\n",
      "debt 1.76349\n",
      "stability 0.29856320400093783\n",
      "dividends 0.4945971\n",
      "future 6.56\n",
      "[3, 2, 5, 1, 2]\n",
      "[*********************100%***********************]  1 of 1 completed\n",
      "value 33.89626\n",
      "debt 0.22646999999999998\n",
      "stability 0.5699269181922835\n",
      "dividends 0.0\n",
      "future 14.63\n",
      "[3, 5, 3, 0, 4]\n",
      "[*********************100%***********************]  1 of 1 completed\n",
      "value 557.2631\n",
      "debt 0.24234999999999998\n",
      "stability 0.39836035682903853\n",
      "dividends 0.0\n",
      "future 8.21\n",
      "[1, 5, 4, 0, 3]\n",
      "[*********************100%***********************]  1 of 1 completed\n",
      "value 37.129066\n",
      "debt 0.40739\n",
      "stability 0.3235797440190336\n",
      "dividends 0.76414826\n",
      "future 10.95\n",
      "[3, 4, 4, 1, 3]\n",
      "[*********************100%***********************]  1 of 1 completed\n",
      "value 23.112627\n",
      "debt 1.06843\n",
      "stability 0.25989456449889015\n",
      "dividends 3.2446045\n",
      "future 8.13\n",
      "[4, 2, 5, 4, 3]\n",
      "[*********************100%***********************]  1 of 1 completed\n",
      "value 30.562084\n",
      "debt 0.53432\n",
      "stability 0.2212745119128532\n",
      "dividends 0.7627006599999999\n",
      "future 8.94\n",
      "[3, 3, 5, 1, 3]\n",
      "[*********************100%***********************]  1 of 1 completed\n",
      "value 41.69745\n",
      "debt 1.71057\n",
      "stability 0.23603148213473718\n",
      "dividends 0.0\n",
      "future 8.79\n",
      "[3, 2, 5, 0, 3]\n",
      "[*********************100%***********************]  1 of 1 completed\n",
      "value 23.257576\n",
      "debt 0.17074\n",
      "stability 0.5341262871522084\n",
      "dividends 0.0\n",
      "future 9.31\n",
      "[4, 5, 3, 0, 3]\n",
      "[*********************100%***********************]  1 of 1 completed\n",
      "value 14.540356\n",
      "debt 0.74655\n",
      "stability 0.2888710725939466\n",
      "dividends 0.3035765\n",
      "future 4.01\n",
      "[5, 3, 5, 1, 2]\n",
      "[*********************100%***********************]  1 of 1 completed\n",
      "value 14.216129\n",
      "stability 0.21701987271212073\n",
      "dividends 8.4258206\n",
      "future 5.19\n",
      "[5, 0, 5, 5, 2]\n",
      "[*********************100%***********************]  1 of 1 completed\n",
      "debt 0.16543\n",
      "stability 0.7367749396276724\n",
      "dividends 0.0\n",
      "future 0.55\n",
      "[0, 5, 2, 0, 1]\n",
      "[*********************100%***********************]  1 of 1 completed\n",
      "value 12.190751\n",
      "stability 0.3114901396712592\n",
      "dividends 2.7148252\n",
      "future 4.84\n",
      "[5, 0, 4, 3, 2]\n",
      "[*********************100%***********************]  1 of 1 completed\n",
      "value 34.502098\n",
      "debt 0.74655\n",
      "stability 0.1614868434068961\n",
      "dividends 2.7606426\n",
      "future 11.0\n",
      "[3, 3, 5, 3, 3]\n",
      "[*********************100%***********************]  1 of 1 completed\n",
      "value 7.117806\n",
      "debt 0.20079\n",
      "stability 0.3100987767868732\n",
      "dividends 3.3808667\n",
      "future 9.12\n",
      "[5, 5, 4, 4, 3]\n"
     ]
    }
   ],
   "source": [
    "ticker_list =[\"AAPL\", \"META\", \"CRM\", \"MSFT\", \"CVS\",\"V\", \"TMUS\",\"BABA\", \"GE\",\"MO\", \"SHOP\",\"WFC\", \"JNJ\", \"XOM\"]\n",
    "\n",
    "multix(ticker_list)"
   ]
  },
  {
   "cell_type": "code",
   "execution_count": 52,
   "metadata": {},
   "outputs": [
    {
     "ename": "TypeError",
     "evalue": "object of type 'builtin_function_or_method' has no len()",
     "output_type": "error",
     "traceback": [
      "\u001b[1;31m---------------------------------------------------------------------------\u001b[0m",
      "\u001b[1;31mTypeError\u001b[0m                                 Traceback (most recent call last)",
      "\u001b[1;32m~\\AppData\\Local\\Temp/ipykernel_17120/3712473830.py\u001b[0m in \u001b[0;36m<module>\u001b[1;34m\u001b[0m\n\u001b[1;32m----> 1\u001b[1;33m \u001b[0mx\u001b[0m \u001b[1;33m=\u001b[0m \u001b[0mstability_rating\u001b[0m\u001b[1;33m(\u001b[0m\u001b[1;34m\"GME\"\u001b[0m\u001b[1;33m)\u001b[0m\u001b[1;33m\u001b[0m\u001b[1;33m\u001b[0m\u001b[0m\n\u001b[0m",
      "\u001b[1;32m~\\AppData\\Local\\Temp/ipykernel_17120/2700893597.py\u001b[0m in \u001b[0;36mstability_rating\u001b[1;34m(ohlc_data)\u001b[0m\n\u001b[0;32m     38\u001b[0m \u001b[1;33m\u001b[0m\u001b[0m\n\u001b[0;32m     39\u001b[0m \u001b[1;32mdef\u001b[0m \u001b[0mstability_rating\u001b[0m\u001b[1;33m(\u001b[0m\u001b[0mohlc_data\u001b[0m\u001b[1;33m)\u001b[0m\u001b[1;33m:\u001b[0m\u001b[1;33m\u001b[0m\u001b[1;33m\u001b[0m\u001b[0m\n\u001b[1;32m---> 40\u001b[1;33m     \u001b[0mdata_length\u001b[0m \u001b[1;33m=\u001b[0m \u001b[0mlen\u001b[0m\u001b[1;33m(\u001b[0m\u001b[0mohlc_data\u001b[0m\u001b[1;33m.\u001b[0m\u001b[0mindex\u001b[0m\u001b[1;33m)\u001b[0m\u001b[1;33m\u001b[0m\u001b[1;33m\u001b[0m\u001b[0m\n\u001b[0m\u001b[0;32m     41\u001b[0m     \u001b[0mohlc_data\u001b[0m\u001b[1;33m[\u001b[0m\u001b[1;34m\"Log Returns\"\u001b[0m\u001b[1;33m]\u001b[0m \u001b[1;33m=\u001b[0m \u001b[0mnp\u001b[0m\u001b[1;33m.\u001b[0m\u001b[0mlog\u001b[0m\u001b[1;33m(\u001b[0m\u001b[0mohlc_data\u001b[0m\u001b[1;33m[\u001b[0m\u001b[1;34m\"Close\"\u001b[0m\u001b[1;33m]\u001b[0m \u001b[1;33m/\u001b[0m \u001b[0mohlc_data\u001b[0m\u001b[1;33m[\u001b[0m\u001b[1;34m\"Close\"\u001b[0m\u001b[1;33m]\u001b[0m\u001b[1;33m.\u001b[0m\u001b[0mshift\u001b[0m\u001b[1;33m(\u001b[0m\u001b[1;36m1\u001b[0m\u001b[1;33m)\u001b[0m\u001b[1;33m)\u001b[0m\u001b[1;33m\u001b[0m\u001b[1;33m\u001b[0m\u001b[0m\n\u001b[0;32m     42\u001b[0m     \u001b[0mvolatility\u001b[0m \u001b[1;33m=\u001b[0m \u001b[0mohlc_data\u001b[0m\u001b[1;33m[\u001b[0m\u001b[1;34m\"Log Returns\"\u001b[0m\u001b[1;33m]\u001b[0m\u001b[1;33m.\u001b[0m\u001b[0mstd\u001b[0m\u001b[1;33m(\u001b[0m\u001b[1;33m)\u001b[0m \u001b[1;33m*\u001b[0m \u001b[0mnp\u001b[0m\u001b[1;33m.\u001b[0m\u001b[0msqrt\u001b[0m\u001b[1;33m(\u001b[0m\u001b[0mdata_length\u001b[0m\u001b[1;33m)\u001b[0m\u001b[1;33m\u001b[0m\u001b[1;33m\u001b[0m\u001b[0m\n",
      "\u001b[1;31mTypeError\u001b[0m: object of type 'builtin_function_or_method' has no len()"
     ]
    }
   ],
   "source": [
    "x = stability_rating(\"GME\")"
   ]
  },
  {
   "cell_type": "code",
   "execution_count": 15,
   "metadata": {},
   "outputs": [
    {
     "name": "stdout",
     "output_type": "stream",
     "text": [
      "[*********************100%***********************]  1 of 1 completed\n",
      "debt 0.51156\n",
      "stability 0.795907924077086\n",
      "dividends 0.0\n",
      "future -0.25\n",
      "[0, 3, 2, 0, 1]\n"
     ]
    },
    {
     "data": {
      "text/plain": [
       "True"
      ]
     },
     "execution_count": 15,
     "metadata": {},
     "output_type": "execute_result"
    }
   ],
   "source": [
    "check_all(\"GME\")"
   ]
  },
  {
   "cell_type": "code",
   "execution_count": 2,
   "metadata": {},
   "outputs": [
    {
     "name": "stdout",
     "output_type": "stream",
     "text": [
      "2023\n"
     ]
    }
   ],
   "source": [
    "from datetime import datetime\n",
    "current_year = int((datetime.now()).strftime(\"%Y\"))\n",
    "print(current_year)"
   ]
  },
  {
   "cell_type": "code",
   "execution_count": null,
   "metadata": {},
   "outputs": [],
   "source": []
  }
 ],
 "metadata": {
  "kernelspec": {
   "display_name": "base",
   "language": "python",
   "name": "python3"
  },
  "language_info": {
   "codemirror_mode": {
    "name": "ipython",
    "version": 3
   },
   "file_extension": ".py",
   "mimetype": "text/x-python",
   "name": "python",
   "nbconvert_exporter": "python",
   "pygments_lexer": "ipython3",
   "version": "3.9.7"
  },
  "orig_nbformat": 4
 },
 "nbformat": 4,
 "nbformat_minor": 2
}
